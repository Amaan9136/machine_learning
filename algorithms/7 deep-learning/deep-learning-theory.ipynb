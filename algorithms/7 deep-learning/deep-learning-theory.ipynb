{
 "cells": [
  {
   "cell_type": "markdown",
   "metadata": {},
   "source": [
    "<h2>Deep Learning</h2> \n",
    "<h3>Large neural network</h3>\n",
    "<img src=\"../../images/deep-learning.png\" width=\"650px\">"
   ]
  },
  {
   "cell_type": "markdown",
   "metadata": {},
   "source": [
    "<h2>Cost function</h2> \n",
    "<h3>error btwn actual and predicted value. which can be used to make the model more accurate</h3>\n",
    "<img src=\"../../images/cost-func.png\" width=\"650px\"> "
   ]
  },
  {
   "cell_type": "markdown",
   "metadata": {},
   "source": [
    "<h2>Gradient Descent</h2> \n",
    "<h3>used to find best cost function.</h3>\n",
    "<img src=\"../../images/gradient-descent.png\" width=\"650px\">"
   ]
  }
 ],
 "metadata": {
  "language_info": {
   "name": "python"
  }
 },
 "nbformat": 4,
 "nbformat_minor": 2
}
