{
 "cells": [
  {
   "cell_type": "markdown",
   "metadata": {},
   "source": [
    "<h2>Deep Learning</h2> \n",
    "<h3>Large neural network</h3>\n",
    "<img src=\"../../images/deep-learning.png\" width=\"650px\">"
   ]
  },
  {
   "cell_type": "markdown",
   "metadata": {},
   "source": [
    "<h2>Cost function</h2> \n",
    "<h3>error btwn actual and predicted value</h3>\n",
    "<img src=\"../../images/cost-func.png\" width=\"650px\">"
   ]
  }
 ],
 "metadata": {
  "language_info": {
   "name": "python"
  }
 },
 "nbformat": 4,
 "nbformat_minor": 2
}
