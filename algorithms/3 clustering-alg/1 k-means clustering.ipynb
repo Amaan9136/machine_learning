{
 "cells": [
  {
   "cell_type": "markdown",
   "metadata": {},
   "source": [
    "<h2>K Means Clustering</h2>\n",
    "<h3>Groups the data points depending on required clusters(groups) by using the nearest point from the centroid of each cluster</h3>\n",
    "<img src=\"../../images/kmeans.png\" width=\"450px\">"
   ]
  },
  {
   "cell_type": "markdown",
   "metadata": {},
   "source": [
    "<h2>The Elbow Method</h2>\n",
    "<h3>Used to find the best/optimal cluster value for the given data set</h3>\n",
    "<p>There are so many types in elbow but we use WCSS</p>\n",
    "<img src=\"../../images/wcss-formula.png\" width=\"450px\">\n",
    "<img src=\"../../images/elbow-method.png\" width=\"450px\">"
   ]
  },
  {
   "cell_type": "markdown",
   "metadata": {},
   "source": [
    "<h3>The K-means is always random so it many times produces bad results by grouping unnecessary clusters</h3>\n",
    "<h3>So we use K-Means++ which will choose the initial cluster-centroid as random then it will find other cluster-centroids using that point</h3>\n",
    "<img src=\"../../images/elbow-method.png\" width=\"450px\">"
   ]
  }
 ],
 "metadata": {
  "language_info": {
   "name": "python"
  }
 },
 "nbformat": 4,
 "nbformat_minor": 2
}
