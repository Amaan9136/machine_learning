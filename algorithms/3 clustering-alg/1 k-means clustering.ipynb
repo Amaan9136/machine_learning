{
 "cells": [
  {
   "cell_type": "markdown",
   "metadata": {},
   "source": [
    "<h2>K Means Clustering</h2>\n",
    "<h3>Groups the data points depending on required clusters(groups) by using the nearest point from the centroid of each cluster</h3>\n",
    "<img src=\"../../images/kmeans.png\" width=\"450px\">"
   ]
  }
 ],
 "metadata": {
  "language_info": {
   "name": "python"
  }
 },
 "nbformat": 4,
 "nbformat_minor": 2
}
