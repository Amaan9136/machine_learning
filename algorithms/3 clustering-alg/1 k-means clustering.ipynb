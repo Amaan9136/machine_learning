{
 "cells": [
  {
   "cell_type": "markdown",
   "metadata": {},
   "source": [
    "<h2>K Means Clustering</h2>\n",
    "<h3>Groups the data points depending on required clusters(groups) by using the nearest point from the centroid of each cluster</h3>\n",
    "<img src=\"../../images/kmeans.png\" width=\"450px\">"
   ]
  },
  {
   "cell_type": "markdown",
   "metadata": {},
   "source": [
    "<h2>The Elbow Method</h2>\n",
    "<h3>Used to find the best/optimal cluster value for the given data set</h3>\n",
    "<p>There are so many types in elbow but we use WCSS</p>\n",
    "<img src=\"../../images/wcss-formula.png\" width=\"450px\">\n",
    "<img src=\"../../images/elbow-method.png\" width=\"450px\">\n",
    "<img src=\"../../images/elbow-method-2.png\" width=\"450px\">"
   ]
  },
  {
   "cell_type": "markdown",
   "metadata": {},
   "source": [
    "<h3>The K-means is always random so it many times produces bad results by grouping unnecessary clusters</h3>\n",
    "<h3>So we use K-Means++ which will choose the initial cluster-centroid as random then it will find other cluster-centroids using that point</h3>\n",
    "<img src=\"../../images/kmeans++.png\" width=\"450px\">"
   ]
  },
  {
   "cell_type": "markdown",
   "metadata": {},
   "source": [
    "# K-Means Clustering"
   ]
  },
  {
   "cell_type": "markdown",
   "metadata": {},
   "source": [
    "## Importing the libraries"
   ]
  },
  {
   "cell_type": "code",
   "execution_count": 1,
   "metadata": {},
   "outputs": [],
   "source": [
    "import numpy as np\n",
    "import matplotlib.pyplot as plt\n",
    "import pandas as pd"
   ]
  },
  {
   "cell_type": "markdown",
   "metadata": {},
   "source": [
    "## Importing the dataset"
   ]
  },
  {
   "cell_type": "code",
   "execution_count": 24,
   "metadata": {},
   "outputs": [
    {
     "name": "stdout",
     "output_type": "stream",
     "text": [
      "[[15 39]\n",
      " [15 81]\n",
      " [16  6]\n",
      " [16 77]\n",
      " [17 40]]\n"
     ]
    }
   ],
   "source": [
    "dataset = pd.read_csv('../../datasets/Mall_Customers.csv')\n",
    "X = dataset.iloc[:,3:5].values\n",
    "\n",
    "# HERE WHEN WE ARE DOING CLUSTERING WE ONLY NEED X's VALUES SINCE WE ONLY WANT TO GROUP\n",
    "\n",
    "# print 5 values for above X array\n",
    "print(X[0:5])"
   ]
  },
  {
   "cell_type": "markdown",
   "metadata": {},
   "source": [
    "## Using the elbow method to find the optimal number of clusters"
   ]
  },
  {
   "cell_type": "code",
   "execution_count": null,
   "metadata": {},
   "outputs": [],
   "source": [
    "from sklearn.cluster import KMeans\n",
    "\n",
    "wcss = []\n",
    "\n",
    "# find the best in 10 clusters\n",
    "for i in range(1,11):\n",
    "  model = KMeans(init='k-means++', n_clusters=i, random_state=42 )\n",
    "  model.fit(X)\n",
    "  wcss.append(model.inertia_)\n",
    "\n",
    "plt.plot(range(1, 11), wcss)\n",
    "plt.title('The Elbow Method')\n",
    "plt.xlabel('Number of clusters')\n",
    "plt.ylabel('WCSS')\n",
    "plt.show()"
   ]
  }
 ],
 "metadata": {
  "kernelspec": {
   "display_name": "my_env",
   "language": "python",
   "name": "python3"
  },
  "language_info": {
   "codemirror_mode": {
    "name": "ipython",
    "version": 3
   },
   "file_extension": ".py",
   "mimetype": "text/x-python",
   "name": "python",
   "nbconvert_exporter": "python",
   "pygments_lexer": "ipython3",
   "version": "3.9.18"
  }
 },
 "nbformat": 4,
 "nbformat_minor": 2
}
