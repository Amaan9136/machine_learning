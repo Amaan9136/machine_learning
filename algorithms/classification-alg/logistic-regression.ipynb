{
 "cells": [
  {
   "cell_type": "markdown",
   "metadata": {},
   "source": [
    "<h2>LOGISTIC REGRESSION MAINLY DEPENDS ON SIGMOID CURVE WHICH DECIDES YES OR NO (1 OR 0)</h2>\n",
    "<h3>THE PREDICTED VALUE OF Y IS CONSIDERED AS <0.5 AS NO AND >0.5 AS YES</p>\n",
    "<img src=\"../../images/logistic-regression.png\" width=\"450px\">\n"
   ]
  },
  {
   "cell_type": "markdown",
   "metadata": {},
   "source": [
    "<h2>The multiplication of all the regression points which comes between 0 and 1 of a regression line is called as Likelihood</h2>\n",
    "<p>The Yes=(1-No) thats why we are making the multiplication of the Yes value indirectly</p>\n",
    "<img src=\"../../images/likelihood.jpg\" width=\"600px\">"
   ]
  },
  {
   "cell_type": "markdown",
   "metadata": {},
   "source": [
    "<h2>A best regression line is found by the maximum Likelihood</h2>\n",
    "<img src=\"../../images/best-likelihood.jpg\" width=\"600px\">\n"
   ]
  }
 ],
 "metadata": {
  "language_info": {
   "name": "python"
  }
 },
 "nbformat": 4,
 "nbformat_minor": 2
}
