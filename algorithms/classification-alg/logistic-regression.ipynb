{
 "cells": [
  {
   "cell_type": "markdown",
   "metadata": {},
   "source": [
    "<h2>LOGISTIC REGRESSION MAINLY DEPENDS ON SIGMOID CURVE WHICH DECIDES YES OR NO (1 OR 0)</h2>\n",
    "<h3>THE PREDICTED VALUE OF Y IS CONSIDERED AS <0.5 AS NO AND >0.5 AS YES</p>\n",
    "<img src=\"../../images/logistic-regression.png\" width=\"500px\">\n"
   ]
  },
  {
   "cell_type": "code",
   "execution_count": null,
   "metadata": {
    "vscode": {
     "languageId": "plaintext"
    }
   },
   "outputs": [],
   "source": []
  }
 ],
 "metadata": {
  "language_info": {
   "name": "python"
  }
 },
 "nbformat": 4,
 "nbformat_minor": 2
}
