{
 "cells": [
  {
   "cell_type": "markdown",
   "metadata": {},
   "source": [
    "<h2>K Nearest Neighbors Classifier</h2>\n",
    "<h3>Predicts depending on the Nearest Neighbor of unknown-point and assigns that unknown-point with a class</h3>\n",
    "<img src=\"../../images/knn-classification.png\" width=\"450px\">\n"
   ]
  },
  {
   "cell_type": "markdown",
   "metadata": {},
   "source": [
    "<h2>It uses Euclidean Distance Formula to find the shortest neighbor</h2>\n",
    "<img src=\"../../images/euclidean-distance.png\" width=\"600px\">\n"
   ]
  }
 ],
 "metadata": {
  "language_info": {
   "name": "python"
  }
 },
 "nbformat": 4,
 "nbformat_minor": 2
}
