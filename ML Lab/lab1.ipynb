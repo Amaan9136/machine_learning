{
 "cells": [
  {
   "cell_type": "code",
   "execution_count": 25,
   "metadata": {},
   "outputs": [
    {
     "name": "stdout",
     "output_type": "stream",
     "text": [
      "[['sunny', 'warm', 'normal', 'strong', 'warm', 'same', 'yes'], ['sunny', 'warm', 'normal', 'strong', 'warm', 'same', 'yes'], ['sunny', 'warm', 'high', 'strong', 'warm', 'change', 'no'], ['sunny', 'warm', 'high', 'strong', 'cool', 'change', 'yes']]\n",
      "\n",
      " The total number of training instances are :  4\n",
      "\n",
      " The initial hypothesis is : \n",
      " ['0', '0', '0', '0', '0', '0']\n",
      "\n",
      " The hypothesis for the training instance 1 is: \n",
      " ['sunny', 'warm', 'normal', 'strong', 'warm', 'same']\n",
      "\n",
      " The hypothesis for the training instance 2 is: \n",
      " ['sunny', 'warm', 'normal', 'strong', 'warm', 'same']\n",
      "\n",
      " The hypothesis for the training instance 3 is: \n",
      " ['sunny', 'warm', 'normal', 'strong', 'warm', 'same']\n",
      "\n",
      " The hypothesis for the training instance 4 is: \n",
      " ['sunny', 'warm', '?', 'strong', '?', '?']\n",
      "\n",
      " The Maximally specific hypothesis for the training instances is: \n",
      " ['sunny', 'warm', '?', 'strong', '?', '?']\n"
     ]
    }
   ],
   "source": [
    "import csv\n",
    "\n",
    "a = []\n",
    "\n",
    "with open('lab1.csv', 'r') as csvfile:\n",
    "    for row in csv.reader(csvfile):\n",
    "        a.append(row)\n",
    "    print(a)\n",
    "\n",
    "print(\"\\n The total number of training instances are : \",len(a))\n",
    "\n",
    "num_attribute = len(a[0])-1\n",
    "hypothesis = ['0']*num_attribute\n",
    "print(\"\\n The initial hypothesis is : \\n\", hypothesis)\n",
    "\n",
    "for i in range(0, len(a)):\n",
    "    if a[i][num_attribute] == 'yes':\n",
    "        for j in range(0, num_attribute):\n",
    "            if hypothesis[j] == '0' or hypothesis[j] == a[i][j]:\n",
    "                hypothesis[j] = a[i][j]\n",
    "            else:\n",
    "                hypothesis[j] = '?'\n",
    "    print(f\"\\n The hypothesis for the training instance {i+1} is: \\n\",hypothesis)\n",
    "\n",
    "print(\"\\n The Maximally specific hypothesis for the training instances is: \\n\", hypothesis )"
   ]
  }
 ],
 "metadata": {
  "kernelspec": {
   "display_name": "my_env",
   "language": "python",
   "name": "python3"
  },
  "language_info": {
   "codemirror_mode": {
    "name": "ipython",
    "version": 3
   },
   "file_extension": ".py",
   "mimetype": "text/x-python",
   "name": "python",
   "nbconvert_exporter": "python",
   "pygments_lexer": "ipython3",
   "version": "3.9.18"
  }
 },
 "nbformat": 4,
 "nbformat_minor": 2
}
