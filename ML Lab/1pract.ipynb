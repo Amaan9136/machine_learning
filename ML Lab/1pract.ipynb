{
 "cells": [
  {
   "cell_type": "code",
   "execution_count": 2,
   "metadata": {},
   "outputs": [
    {
     "name": "stdout",
     "output_type": "stream",
     "text": [
      "[['sunny', 'warm', 'normal', 'strong', 'warm', 'same', 'yes'], ['sunny', 'warm', 'normal', 'strong', 'warm', 'same', 'yes'], ['sunny', 'warm', 'high', 'strong', 'warm', 'change', 'no'], ['sunny', 'warm', 'high', 'strong', 'cool', 'change', 'yes']]\n"
     ]
    }
   ],
   "source": [
    "import csv\n",
    "\n",
    "a = []\n",
    "with open(\"lab1.csv\",\"r\") as f:\n",
    "  for row in csv.reader(f):\n",
    "    a.append(row)\n",
    "  print(a)\n"
   ]
  },
  {
   "cell_type": "code",
   "execution_count": 3,
   "metadata": {},
   "outputs": [
    {
     "name": "stdout",
     "output_type": "stream",
     "text": [
      "['0', '0', '0', '0', '0', '0']\n"
     ]
    }
   ],
   "source": [
    "attr_len = len(a[0])-1\n",
    "h = ['0']* attr_len \n",
    "print(h)"
   ]
  },
  {
   "cell_type": "code",
   "execution_count": 13,
   "metadata": {},
   "outputs": [
    {
     "name": "stdout",
     "output_type": "stream",
     "text": [
      "0 th  ['sunny', 'warm', '?', 'strong', '?', '?']\n",
      "1 th  ['sunny', 'warm', '?', 'strong', '?', '?']\n",
      "3 th  ['sunny', 'warm', '?', 'strong', '?', '?']\n",
      "['sunny', 'warm', '?', 'strong', '?', '?']\n"
     ]
    }
   ],
   "source": [
    "for i in range(0,len(a)):\n",
    "  print(i,\"th \",h)\n",
    "  if a[i][attr_len] == \"yes\":\n",
    "    for j in range(0,attr_len):\n",
    "      if h[j] == \"0\" or h[j] == a[i][j]:\n",
    "        h[j] = a[i][j]\n",
    "      else:\n",
    "        h[j] = \"?\"\n",
    "\n",
    "print(h)\n"
   ]
  },
  {
   "cell_type": "code",
   "execution_count": null,
   "metadata": {},
   "outputs": [],
   "source": []
  }
 ],
 "metadata": {
  "kernelspec": {
   "display_name": "my_env",
   "language": "python",
   "name": "python3"
  },
  "language_info": {
   "codemirror_mode": {
    "name": "ipython",
    "version": 3
   },
   "file_extension": ".py",
   "mimetype": "text/x-python",
   "name": "python",
   "nbconvert_exporter": "python",
   "pygments_lexer": "ipython3",
   "version": "3.9.18"
  }
 },
 "nbformat": 4,
 "nbformat_minor": 2
}
