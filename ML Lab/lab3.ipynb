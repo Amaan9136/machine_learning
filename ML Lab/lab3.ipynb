{
 "cells": [
  {
   "cell_type": "code",
   "execution_count": null,
   "id": "1a965927",
   "metadata": {},
   "outputs": [],
   "source": [
    "import pandas as pd\n",
    "\n",
    "df = pd.read_csv(\"lab3.csv\")\n",
    "\n",
    "print(\"Original Data\")\n",
    "print(df)\n",
    "\n",
    "for col in df.columns:\n",
    "    df[col] = df[col].drop_duplicates()\n",
    "\n",
    "df= df.loc[:,df.nunique()>1]\n",
    "\n",
    "print(\"\\nPre processed dataset\")\n",
    "print(df)"
   ]
  },
  {
   "cell_type": "code",
   "execution_count": 1,
   "id": "6a16ee0d",
   "metadata": {},
   "outputs": [
    {
     "ename": "TypeError",
     "evalue": "DecisionTree() takes no arguments",
     "output_type": "error",
     "traceback": [
      "\u001b[1;31m---------------------------------------------------------------------------\u001b[0m",
      "\u001b[1;31mTypeError\u001b[0m                                 Traceback (most recent call last)",
      "Cell \u001b[1;32mIn[1], line 63\u001b[0m\n\u001b[0;32m     59\u001b[0m \u001b[38;5;66;03m# Load the dataset \u001b[39;00m\n\u001b[0;32m     60\u001b[0m  \n\u001b[0;32m     61\u001b[0m \u001b[38;5;66;03m# Example usage \u001b[39;00m\n\u001b[0;32m     62\u001b[0m df \u001b[38;5;241m=\u001b[39m pd\u001b[38;5;241m.\u001b[39mread_csv(\u001b[38;5;124m'\u001b[39m\u001b[38;5;124mPlayTennis.csv\u001b[39m\u001b[38;5;124m'\u001b[39m)  \u001b[38;5;66;03m# Read the dataset from CSV \u001b[39;00m\n\u001b[1;32m---> 63\u001b[0m dt \u001b[38;5;241m=\u001b[39m \u001b[43mDecisionTree\u001b[49m\u001b[43m(\u001b[49m\u001b[43mdf\u001b[49m\u001b[43m,\u001b[49m\u001b[43m \u001b[49m\u001b[43mtarget\u001b[49m\u001b[38;5;241;43m=\u001b[39;49m\u001b[38;5;124;43m'\u001b[39;49m\u001b[38;5;124;43mPlay\u001b[39;49m\u001b[38;5;124;43m'\u001b[39;49m\u001b[43m,\u001b[49m\u001b[43m \u001b[49m\u001b[43mpositive\u001b[49m\u001b[38;5;241;43m=\u001b[39;49m\u001b[38;5;124;43m'\u001b[39;49m\u001b[38;5;124;43mYes\u001b[39;49m\u001b[38;5;124;43m'\u001b[39;49m\u001b[43m)\u001b[49m  \u001b[38;5;66;03m# Initialize the DecisionTree object \u001b[39;00m\n\u001b[0;32m     64\u001b[0m dt\u001b[38;5;241m.\u001b[39mupdate_nodes()  \u001b[38;5;66;03m# Build the decision tree \u001b[39;00m\n\u001b[0;32m     65\u001b[0m print_tree(dt)  \u001b[38;5;66;03m# Print the decision tree\u001b[39;00m\n",
      "\u001b[1;31mTypeError\u001b[0m: DecisionTree() takes no arguments"
     ]
    }
   ],
   "source": [
    "import math \n",
    "import pandas as pd \n",
    "from operator import itemgetter\n",
    " \n",
    "class DecisionTree: \n",
    "    def _init_(self, df, target, positive, parent_val=None, parent=None): \n",
    "        self.data = df \n",
    "        self.target = target \n",
    "        self.positive = positive \n",
    "        self.parent_val = parent_val \n",
    "        self.parent = parent \n",
    "        self.childs = [] \n",
    "        self.decision = None \n",
    " \n",
    "    def _get_entropy(self, data): \n",
    "        p = sum(data[self.target] == self.positive) \n",
    "        n = data.shape[0] - p \n",
    "        p_ratio = p / (p + n) \n",
    "        n_ratio = 1 - p_ratio \n",
    "        entropy_p = -p_ratio * math.log2(p_ratio) if p_ratio != 0 else 0 \n",
    "        entropy_n = -n_ratio * math.log2(n_ratio) if n_ratio != 0 else 0 \n",
    "        return entropy_p + entropy_n \n",
    " \n",
    "    def _get_gain(self, feat): \n",
    "        avg_info = 0 \n",
    "        for val in self.data[feat].unique(): \n",
    "            subset = self.data[self.data[feat] == val] \n",
    "            avg_info += self._get_entropy(subset) * len(subset) / self.data.shape[0] \n",
    "        return self._get_entropy(self.data) - avg_info \n",
    " \n",
    "    def _get_splitter(self): \n",
    "        self.splitter = max(self.gains, key=itemgetter(1))[0] \n",
    "    def update_nodes(self): \n",
    "        self.features = [col for col in self.data.columns if col != self.target] \n",
    "        self.entropy = self._get_entropy(self.data) \n",
    "        if self.entropy != 0: \n",
    "            self.gains = [(feat, self._get_gain(feat)) for feat in self.features] \n",
    "            self._get_splitter() \n",
    "            residual_columns = [k for k in self.data.columns if k != self.splitter] \n",
    "            for val in self.data[self.splitter].unique(): \n",
    "                df_tmp = self.data[self.data[self.splitter] == val][residual_columns] \n",
    "                tmp_node = DecisionTree(df_tmp, self.target, self.positive, val, self.splitter) \n",
    "                tmp_node.update_nodes() \n",
    "                self.childs.append(tmp_node) \n",
    "        else: \n",
    "            self.decision = self.data[self.target].iloc[0] \n",
    " \n",
    "def print_tree(n, level=0): \n",
    "    if n.parent is not None: \n",
    "        indent = \"  \" * level \n",
    "        decision = f\"(Decision: {n.decision})\" if n.decision is not None else \"\" \n",
    " \n",
    " \n",
    "        print(f\"{indent}{n.parent}: {n.parent_val} {decision}\") \n",
    "    for child in n.childs: \n",
    "        if child: \n",
    "            print_tree(child, level + 1) \n",
    " \n",
    "# Load the dataset \n",
    " \n",
    "# Example usage \n",
    "df = pd.read_csv('PlayTennis.csv')  # Read the dataset from CSV \n",
    "dt = DecisionTree(df, target='Play', positive='Yes')  # Initialize the DecisionTree object \n",
    "dt.update_nodes()  # Build the decision tree \n",
    "print_tree(dt)  # Print the decision tree"
   ]
  }
 ],
 "metadata": {
  "kernelspec": {
   "display_name": "Python 3 (ipykernel)",
   "language": "python",
   "name": "python3"
  },
  "language_info": {
   "codemirror_mode": {
    "name": "ipython",
    "version": 3
   },
   "file_extension": ".py",
   "mimetype": "text/x-python",
   "name": "python",
   "nbconvert_exporter": "python",
   "pygments_lexer": "ipython3",
   "version": "3.9.18"
  }
 },
 "nbformat": 4,
 "nbformat_minor": 5
}
