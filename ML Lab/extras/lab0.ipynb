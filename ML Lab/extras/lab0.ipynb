{
 "cells": [
  {
   "cell_type": "markdown",
   "id": "6d20bc89",
   "metadata": {},
   "source": [
    "# ai lab program"
   ]
  },
  {
   "cell_type": "code",
   "execution_count": 3,
   "id": "f55e60f3",
   "metadata": {},
   "outputs": [
    {
     "name": "stdout",
     "output_type": "stream",
     "text": [
      "hello world\n"
     ]
    }
   ],
   "source": [
    "print(\"hello world\")"
   ]
  },
  {
   "cell_type": "code",
   "execution_count": 5,
   "id": "301784fd",
   "metadata": {},
   "outputs": [
    {
     "name": "stdout",
     "output_type": "stream",
     "text": [
      "Name:Sagar H D\n",
      "Branch:AIML\n",
      "College:Adichunchanagiri Institute Of Technology\n"
     ]
    }
   ],
   "source": [
    "print(\"Name:Amaan H D\\nBranch:AIML\\nCollege:Adichunchanagiri Institute Of Technology\")"
   ]
  },
  {
   "cell_type": "markdown",
   "id": "2744771c",
   "metadata": {},
   "source": []
  },
  {
   "cell_type": "code",
   "execution_count": 6,
   "id": "5e40133e",
   "metadata": {},
   "outputs": [
    {
     "name": "stdout",
     "output_type": "stream",
     "text": [
      "7\n"
     ]
    }
   ],
   "source": [
    "a=5\n",
    "b=2\n",
    "print(a+b)"
   ]
  },
  {
   "cell_type": "code",
   "execution_count": 11,
   "id": "bcbd6096",
   "metadata": {},
   "outputs": [
    {
     "name": "stdout",
     "output_type": "stream",
     "text": [
      "enter first number: 4\n",
      "enter second number: 5\n",
      "sum =  9.0\n"
     ]
    }
   ],
   "source": [
    "a=float(input(\"enter first number: \"))\n",
    "b=float(input(\"enter second number: \"))\n",
    "print(\"sum = \",a+b)"
   ]
  },
  {
   "cell_type": "markdown",
   "id": "b5e258b1",
   "metadata": {},
   "source": [
    "##### "
   ]
  },
  {
   "cell_type": "code",
   "execution_count": 12,
   "id": "e894ed69",
   "metadata": {},
   "outputs": [
    {
     "name": "stdout",
     "output_type": "stream",
     "text": [
      "enter first number3\n",
      "enter second number4\n",
      "values before swapping:\n",
      "a =  3.0 \n",
      "b = 4.0\n",
      "values after swapping:\n",
      "a =  4.0 \n",
      "b = 3.0\n"
     ]
    }
   ],
   "source": [
    "a=float(input(\"enter first number\"))\n",
    "b=float(input(\"enter second number\"))\n",
    "print(\"values before swapping:\\na = \",a,\"\\nb =\",b)\n",
    "temp=a\n",
    "a=b\n",
    "b=temp\n",
    "print(\"values after swapping:\\na = \",a,\"\\nb =\",b)\n",
    "\n"
   ]
  },
  {
   "cell_type": "code",
   "execution_count": 13,
   "id": "72f0cd28",
   "metadata": {},
   "outputs": [
    {
     "name": "stdout",
     "output_type": "stream",
     "text": [
      "enter first number4\n",
      "enter second number6\n",
      "values before swapping:\n",
      "a =  4.0 \n",
      "b = 6.0\n",
      "values after swapping:\n",
      "a =  6.0 \n",
      "b = 4.0\n"
     ]
    }
   ],
   "source": [
    "a=float(input(\"enter first number\"))\n",
    "b=float(input(\"enter second number\"))\n",
    "print(\"values before swapping:\\na = \",a,\"\\nb =\",b)\n",
    "a=a+b\n",
    "b=a-b\n",
    "a=a-b\n",
    "print(\"values after swapping:\\na = \",a,\"\\nb =\",b)\n",
    "\n"
   ]
  },
  {
   "cell_type": "markdown",
   "id": "d8cf3a54",
   "metadata": {},
   "source": [
    "##### "
   ]
  },
  {
   "cell_type": "code",
   "execution_count": 18,
   "id": "bf3d3366",
   "metadata": {},
   "outputs": [
    {
     "name": "stdout",
     "output_type": "stream",
     "text": [
      "2 is even \n"
     ]
    }
   ],
   "source": [
    "a=2\n",
    "\n",
    "if(a%2==0):\n",
    " print(a,\"is even \")\n",
    "\n",
    "else:\n",
    " print(a,\"is odd\")\n"
   ]
  },
  {
   "cell_type": "code",
   "execution_count": null,
   "id": "7da5f619",
   "metadata": {},
   "outputs": [],
   "source": [
    "a=float(input(\"enter a number\"))\n",
    "\n",
    "if(a%2==0):\n",
    " print(a,\"is even \")\n",
    "\n",
    "else:\n",
    " print(a,\"is odd\")\n"
   ]
  },
  {
   "cell_type": "markdown",
   "id": "413745eb",
   "metadata": {},
   "source": [
    "##### "
   ]
  },
  {
   "cell_type": "code",
   "execution_count": 42,
   "id": "09b106fa",
   "metadata": {},
   "outputs": [
    {
     "name": "stdout",
     "output_type": "stream",
     "text": [
      "enter a number1\n",
      "it is prime number\n"
     ]
    }
   ],
   "source": [
    "a=float(input(\"enter a number\"))\n",
    "if (a%2!=0):\n",
    "    print(\"it is prime number\")\n",
    "else:\n",
    "    print(\"its not a prime number\")"
   ]
  },
  {
   "cell_type": "code",
   "execution_count": 1,
   "id": "b87826b8",
   "metadata": {},
   "outputs": [
    {
     "name": "stdout",
     "output_type": "stream",
     "text": [
      "enter a number25\n",
      "sqaure root of  25.0 is 5.0\n"
     ]
    }
   ],
   "source": [
    "a=float(input(\"enter a number\"))\n",
    "print(\"sqaure root of \",a,\"is\",a**0.5)"
   ]
  },
  {
   "cell_type": "code",
   "execution_count": 43,
   "id": "6dd35540",
   "metadata": {},
   "outputs": [
    {
     "name": "stdout",
     "output_type": "stream",
     "text": [
      "2\n",
      "4\n",
      "6\n",
      "8\n",
      "10\n"
     ]
    }
   ],
   "source": [
    "for i in range (1,11):\n",
    "    if(i%2==0):\n",
    "        print(i)\n",
    "    "
   ]
  },
  {
   "cell_type": "markdown",
   "id": "77e7f924",
   "metadata": {},
   "source": []
  }
 ],
 "metadata": {
  "kernelspec": {
   "display_name": "Python 3 (ipykernel)",
   "language": "python",
   "name": "python3"
  },
  "language_info": {
   "codemirror_mode": {
    "name": "ipython",
    "version": 3
   },
   "file_extension": ".py",
   "mimetype": "text/x-python",
   "name": "python",
   "nbconvert_exporter": "python",
   "pygments_lexer": "ipython3",
   "version": "3.11.5"
  }
 },
 "nbformat": 4,
 "nbformat_minor": 5
}
