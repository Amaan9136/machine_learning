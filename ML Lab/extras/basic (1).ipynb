{
 "cells": [
  {
   "cell_type": "code",
   "execution_count": 27,
   "id": "f870c364",
   "metadata": {},
   "outputs": [],
   "source": [
    "import csv\n",
    "with open(\"lab2.csv\") as f:\n",
    "    csv_file=csv.reader(f)\n",
    "    data=list(csv_file)\n",
    "    \n",
    "specific=data[1][:-1]\n",
    "general=[['?' for _ in range(len(specific))] for _ in range(len(specific))]"
   ]
  },
  {
   "cell_type": "code",
   "execution_count": 28,
   "id": "b9bdea9f",
   "metadata": {},
   "outputs": [
    {
     "name": "stdout",
     "output_type": "stream",
     "text": [
      "['sunny', 'warm', 'normal', 'strong', 'warm', 'same']\n"
     ]
    }
   ],
   "source": [
    "print(specific)"
   ]
  },
  {
   "cell_type": "code",
   "execution_count": 29,
   "id": "c7e60108",
   "metadata": {},
   "outputs": [
    {
     "name": "stdout",
     "output_type": "stream",
     "text": [
      "[['?', '?', '?', '?', '?', '?'], ['?', '?', '?', '?', '?', '?'], ['?', '?', '?', '?', '?', '?'], ['?', '?', '?', '?', '?', '?'], ['?', '?', '?', '?', '?', '?'], ['?', '?', '?', '?', '?', '?']]\n"
     ]
    }
   ],
   "source": [
    "print(general)"
   ]
  },
  {
   "cell_type": "code",
   "execution_count": 31,
   "id": "f98f0369",
   "metadata": {},
   "outputs": [
    {
     "name": "stdout",
     "output_type": "stream",
     "text": [
      "\n",
      " step 1 of Candidate Elimination Algorithm\n",
      "specific hypothesis:  ['sunny', 'warm', '?', 'strong', '?', '?']\n",
      "general hypothesis:  [['sunny', '?', '?', '?', '?', '?'], ['?', 'warm', '?', '?', '?', '?'], ['?', '?', '?', '?', '?', '?'], ['?', '?', '?', '?', '?', '?'], ['?', '?', '?', '?', '?', '?'], ['?', '?', '?', '?', '?', '?']]\n",
      "\n",
      " step 2 of Candidate Elimination Algorithm\n",
      "specific hypothesis:  ['sunny', 'warm', '?', 'strong', '?', '?']\n",
      "general hypothesis:  [['sunny', '?', '?', '?', '?', '?'], ['?', 'warm', '?', '?', '?', '?'], ['?', '?', '?', '?', '?', '?'], ['?', '?', '?', '?', '?', '?'], ['?', '?', '?', '?', '?', '?'], ['?', '?', '?', '?', '?', '?']]\n",
      "\n",
      " step 3 of Candidate Elimination Algorithm\n",
      "specific hypothesis:  ['sunny', 'warm', '?', 'strong', '?', '?']\n",
      "general hypothesis:  [['sunny', '?', '?', '?', '?', '?'], ['?', 'warm', '?', '?', '?', '?'], ['?', '?', '?', '?', '?', '?'], ['?', '?', '?', '?', '?', '?'], ['?', '?', '?', '?', '?', '?'], ['?', '?', '?', '?', '?', '?']]\n",
      "\n",
      " step 4 of Candidate Elimination Algorithm\n",
      "specific hypothesis:  ['sunny', 'warm', '?', 'strong', '?', '?']\n",
      "general hypothesis:  [['sunny', '?', '?', '?', '?', '?'], ['?', 'warm', '?', '?', '?', '?'], ['?', '?', '?', '?', '?', '?'], ['?', '?', '?', '?', '?', '?'], ['?', '?', '?', '?', '?', '?'], ['?', '?', '?', '?', '?', '?']]\n",
      "\n",
      " step 5 of Candidate Elimination Algorithm\n",
      "specific hypothesis:  ['sunny', 'warm', '?', 'strong', '?', '?']\n",
      "general hypothesis:  [['sunny', '?', '?', '?', '?', '?'], ['?', 'warm', '?', '?', '?', '?'], ['?', '?', '?', '?', '?', '?'], ['?', '?', '?', '?', '?', '?'], ['?', '?', '?', '?', '?', '?'], ['?', '?', '?', '?', '?', '?']]\n"
     ]
    }
   ],
   "source": [
    "for i in data:\n",
    "    if i[-1]==\"yes\":\n",
    "        for j in range(len(specific)):\n",
    "            if i[j]!=specific[j]:\n",
    "                specific[j]=\"?\"\n",
    "                general[j][j]=\"?\"\n",
    "    elif i[-1]==\"no\":\n",
    "        for j in range(len(specific)):\n",
    "            if i[j]!=specific[j]:\n",
    "                general[j][j]=specific[j]\n",
    "            else:\n",
    "                general[j][j]=\"?\"\n",
    "                \n",
    "    print(\"\\n step \" + str(data.index(i)+1) + \" of Candidate Elimination Algorithm\")\n",
    "    print(\"specific hypothesis: \",specific)\n",
    "    print(\"general hypothesis: \",general)"
   ]
  },
  {
   "cell_type": "code",
   "execution_count": null,
   "id": "292ccf60",
   "metadata": {},
   "outputs": [],
   "source": []
  },
  {
   "cell_type": "code",
   "execution_count": 32,
   "id": "0962f4c7",
   "metadata": {},
   "outputs": [
    {
     "name": "stdout",
     "output_type": "stream",
     "text": [
      "\n",
      " Final specific hypothesis: \n",
      " ['sunny', 'warm', '?', 'strong', '?', '?']\n",
      "\n",
      " Final general hypothesis: \n",
      " [['sunny', '?', '?', '?', '?', '?'], ['?', 'warm', '?', '?', '?', '?']]\n"
     ]
    }
   ],
   "source": [
    "gh=[]\n",
    "for i in general:\n",
    "    for j in i:\n",
    "        if j!='?':\n",
    "            gh.append(i)\n",
    "            break\n",
    "print(\"\\n Final specific hypothesis: \\n\",specific)\n",
    "print(\"\\n Final general hypothesis: \\n\",gh)"
   ]
  },
  {
   "cell_type": "code",
   "execution_count": null,
   "id": "ffca57e4",
   "metadata": {},
   "outputs": [],
   "source": []
  }
 ],
 "metadata": {
  "kernelspec": {
   "display_name": "Python 3 (ipykernel)",
   "language": "python",
   "name": "python3"
  },
  "language_info": {
   "codemirror_mode": {
    "name": "ipython",
    "version": 3
   },
   "file_extension": ".py",
   "mimetype": "text/x-python",
   "name": "python",
   "nbconvert_exporter": "python",
   "pygments_lexer": "ipython3",
   "version": "3.11.5"
  }
 },
 "nbformat": 4,
 "nbformat_minor": 5
}
