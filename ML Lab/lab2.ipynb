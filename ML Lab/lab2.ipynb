{
 "cells": [
  {
   "cell_type": "code",
   "execution_count": 24,
   "metadata": {},
   "outputs": [
    {
     "name": "stdout",
     "output_type": "stream",
     "text": [
      "['sunny', 'warm', 'normal', 'strong', 'warm', 'same']\n",
      "[['?', '?', '?', '?', '?', '?'], ['?', '?', '?', '?', '?', '?'], ['?', '?', '?', '?', '?', '?'], ['?', '?', '?', '?', '?', '?'], ['?', '?', '?', '?', '?', '?'], ['?', '?', '?', '?', '?', '?']]\n",
      "\n",
      "Step 1 of Candidate Elimination Algorithm\n",
      "Specific hypothesis:  ['sunny', 'warm', 'normal', 'strong', 'warm', 'same']\n",
      "General hypothesis:  [['?', '?', '?', '?', '?', '?'], ['?', '?', '?', '?', '?', '?'], ['?', '?', '?', '?', '?', '?'], ['?', '?', '?', '?', '?', '?'], ['?', '?', '?', '?', '?', '?'], ['?', '?', '?', '?', '?', '?']]\n",
      "\n",
      "Step 2 of Candidate Elimination Algorithm\n",
      "Specific hypothesis:  ['sunny', 'warm', 'normal', 'strong', 'warm', 'same']\n",
      "General hypothesis:  [['?', '?', '?', '?', '?', '?'], ['?', '?', '?', '?', '?', '?'], ['?', '?', '?', '?', '?', '?'], ['?', '?', '?', '?', '?', '?'], ['?', '?', '?', '?', '?', '?'], ['?', '?', '?', '?', '?', '?']]\n",
      "\n",
      "Step 3 of Candidate Elimination Algorithm\n",
      "Specific hypothesis:  ['sunny', 'warm', 'normal', 'strong', 'warm', 'same']\n",
      "General hypothesis:  [['?', '?', '?', '?', '?', '?'], ['?', '?', '?', '?', '?', '?'], ['?', '?', '?', '?', '?', '?'], ['?', '?', '?', '?', '?', '?'], ['?', '?', '?', '?', '?', '?'], ['?', '?', '?', '?', '?', '?']]\n",
      "\n",
      "Step 4 of Candidate Elimination Algorithm\n",
      "Specific hypothesis:  ['sunny', 'warm', 'normal', 'strong', 'warm', 'same']\n",
      "General hypothesis:  [['?', '?', '?', '?', '?', '?'], ['?', '?', '?', '?', '?', '?'], ['?', '?', '?', '?', '?', '?'], ['?', '?', '?', '?', '?', '?'], ['?', '?', '?', '?', '?', '?'], ['?', '?', '?', '?', '?', '?']]\n",
      "\n",
      "Step 5 of Candidate Elimination Algorithm\n",
      "Specific hypothesis:  ['sunny', 'warm', 'normal', 'strong', 'warm', 'same']\n",
      "General hypothesis:  [['?', '?', '?', '?', '?', '?'], ['?', '?', '?', '?', '?', '?'], ['?', '?', '?', '?', '?', '?'], ['?', '?', '?', '?', '?', '?'], ['?', '?', '?', '?', '?', '?'], ['?', '?', '?', '?', '?', '?']]\n",
      "\n",
      "Final Specific hypothesis:\n",
      " ['sunny', 'warm', 'normal', 'strong', 'warm', 'same']\n",
      "\n",
      "Final General hypothesis:\n",
      " []\n"
     ]
    }
   ],
   "source": [
    "import csv \n",
    " \n",
    "# Open and read the CSV file \n",
    "with open(\"lab2.csv\") as f: \n",
    "    csv_file = csv.reader(f) \n",
    "    data = list(csv_file) \n",
    "\n",
    "# Initialize specific and general hypotheses \n",
    "specific = data[1][:-1]  # Initial specific hypothesis from the first positive example \n",
    "general = [['?' for _ in range(len(specific))] for _ in range(len(specific))]  # General hypothesis \n",
    "\n",
    "print(specific)\n",
    "print(general)\n",
    "\n",
    "# Process each example in the data \n",
    "for i in data: \n",
    "    if i[-1] == \"Yes\":  # Positive example \n",
    "        for j in range(len(specific)): \n",
    "            if i[j] != specific[j]: \n",
    "                specific[j] = \"?\" \n",
    "                general[j][j] = \"?\" \n",
    "    elif i[-1] == \"No\":  # Negative example \n",
    "        for j in range(len(specific)): \n",
    "            if i[j] != specific[j]: \n",
    "                general[j][j] = specific[j] \n",
    "            else: \n",
    "                general[j][j] = \"?\" \n",
    " \n",
    "    # Print steps of the Candidate Elimination Algorithm \n",
    "    print(f\"\\nStep {data.index(i)+1} of Candidate Elimination Algorithm\") \n",
    "    print(\"Specific hypothesis: \", specific) \n",
    "    print(\"General hypothesis: \", general) \n",
    " \n",
    "# Collect the general hypotheses \n",
    "gh = []  # gh = general Hypothesis \n",
    "for i in general: \n",
    "    for j in i: \n",
    "        if j != '?': \n",
    "            gh.append(i) \n",
    "            break \n",
    " \n",
    "# Final hypotheses \n",
    "print(\"\\nFinal Specific hypothesis:\\n\", specific) \n",
    "print(\"\\nFinal General hypothesis:\\n\", gh)"
   ]
  }
 ],
 "metadata": {
  "kernelspec": {
   "display_name": "Python 3",
   "language": "python",
   "name": "python3"
  },
  "language_info": {
   "codemirror_mode": {
    "name": "ipython",
    "version": 3
   },
   "file_extension": ".py",
   "mimetype": "text/x-python",
   "name": "python",
   "nbconvert_exporter": "python",
   "pygments_lexer": "ipython3",
   "version": "3.9.18"
  }
 },
 "nbformat": 4,
 "nbformat_minor": 2
}
