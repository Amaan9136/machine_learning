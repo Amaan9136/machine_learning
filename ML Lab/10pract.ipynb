{
 "cells": [
  {
   "cell_type": "code",
   "execution_count": 1,
   "metadata": {},
   "outputs": [
    {
     "name": "stdout",
     "output_type": "stream",
     "text": [
      "['Orange']\n",
      "1.0\n"
     ]
    },
    {
     "name": "stderr",
     "output_type": "stream",
     "text": [
      "c:\\Users\\Amaan M k\\anaconda3\\envs\\my_env\\lib\\site-packages\\sklearn\\base.py:493: UserWarning: X does not have valid feature names, but SVC was fitted with feature names\n",
      "  warnings.warn(\n"
     ]
    }
   ],
   "source": [
    "# chore: 10th Method 1\n",
    "\n",
    "import pandas as pd \n",
    "from sklearn.model_selection import train_test_split \n",
    "from sklearn.svm import SVC \n",
    "from sklearn.metrics import accuracy_score \n",
    "from sklearn.preprocessing import LabelEncoder\n",
    "\n",
    "dataset = pd.read_csv(\"lab10.csv\")\n",
    "x=dataset.iloc[:,:-1]\n",
    "y=dataset.iloc[:,-1]\n",
    "x_le = LabelEncoder()\n",
    "x.color = x_le.fit_transform(x.color)\n",
    "\n",
    "X_train, X_test, y_train, y_test = train_test_split(x, y, test_size=0.2, random_state=1) \n",
    "\n",
    "svm=SVC(kernel=\"linear\")\n",
    "svm.fit(X_train,y_train)\n",
    "\n",
    "new_x = [[190,0]]\n",
    "print(svm.predict(new_x))\n",
    "\n",
    "y_pred= svm.predict(X_test)\n",
    "print(accuracy_score(y_test,y_pred))"
   ]
  },
  {
   "cell_type": "code",
   "execution_count": 5,
   "metadata": {},
   "outputs": [
    {
     "name": "stdout",
     "output_type": "stream",
     "text": [
      "Accuracy: 1.0\n",
      "['orange']\n"
     ]
    }
   ],
   "source": [
    "# chore: 10th Method 2\n",
    "\n",
    "data = {\n",
    "  \"weight\": [150, 200, 250, 180, 300, 220],\n",
    "  \"color\": ['red', 'red', 'orange', 'orange', 'red', 'orange'], \n",
    "  \"target\": ['apple', 'apple', 'orange', 'orange', 'apple', 'orange'], \n",
    "}\n",
    "\n",
    "df = pd.DataFrame(data)\n",
    "lb = LabelEncoder()\n",
    "df[\"color\"] = lb.fit_transform(df[\"color\"])\n",
    "x = df[[\"weight\",\"color\"]]\n",
    "y = df[\"target\"]\n",
    "\n",
    "X_train, X_test, y_train, y_test = train_test_split(x, y, test_size=0.2, random_state=1) \n",
    "svm = SVC(kernel='linear') \n",
    "svm.fit(X_train, y_train) \n",
    "y_pred = svm.predict(X_test) \n",
    "accuracy = accuracy_score(y_test, y_pred) \n",
    "print(\"Accuracy:\", accuracy) \n",
    "\n",
    "\n",
    "new_pred= svm.predict(pd.DataFrame({\"weight\":[190],\"color\":[0]}))\n",
    "print(new_pred)\n"
   ]
  }
 ],
 "metadata": {
  "kernelspec": {
   "display_name": "my_env",
   "language": "python",
   "name": "python3"
  },
  "language_info": {
   "codemirror_mode": {
    "name": "ipython",
    "version": 3
   },
   "file_extension": ".py",
   "mimetype": "text/x-python",
   "name": "python",
   "nbconvert_exporter": "python",
   "pygments_lexer": "ipython3",
   "version": "3.9.18"
  }
 },
 "nbformat": 4,
 "nbformat_minor": 2
}
