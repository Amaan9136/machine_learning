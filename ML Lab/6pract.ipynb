{
 "cells": [
  {
   "cell_type": "code",
   "execution_count": 12,
   "metadata": {},
   "outputs": [
    {
     "name": "stdout",
     "output_type": "stream",
     "text": [
      "+-----------+---------------+\n",
      "| target    |   phi(target) |\n",
      "+===========+===============+\n",
      "| target(0) |        0.0000 |\n",
      "+-----------+---------------+\n",
      "| target(1) |        1.0000 |\n",
      "+-----------+---------------+\n",
      "+-----------+---------------+\n",
      "| target    |   phi(target) |\n",
      "+===========+===============+\n",
      "| target(0) |        0.4033 |\n",
      "+-----------+---------------+\n",
      "| target(1) |        0.5967 |\n",
      "+-----------+---------------+\n"
     ]
    }
   ],
   "source": [
    "import pandas as pd\n",
    "import numpy as np\n",
    "from pgmpy.inference import VariableElimination\n",
    "from pgmpy.models import BayesianNetwork\n",
    "from pgmpy.estimators import MaximumLikelihoodEstimator\n",
    "df=pd.read_csv(\"heart.csv\")\n",
    "model=BayesianNetwork([\n",
    "('age','target'),\n",
    "('sex','target'),\n",
    "('exang','target'),\n",
    "('cp','target'),\n",
    "('target','chol')])\n",
    "model.fit(df,estimator=MaximumLikelihoodEstimator)\n",
    "infer=VariableElimination(model)\n",
    "qq=infer.query(variables=['target'],evidence={'chol':250})\n",
    "qqq=infer.query(variables=['target'],evidence={'age':37})\n",
    "print(qq)\n",
    "print(qqq)"
   ]
  }
 ],
 "metadata": {
  "kernelspec": {
   "display_name": "my_env",
   "language": "python",
   "name": "python3"
  },
  "language_info": {
   "codemirror_mode": {
    "name": "ipython",
    "version": 3
   },
   "file_extension": ".py",
   "mimetype": "text/x-python",
   "name": "python",
   "nbconvert_exporter": "python",
   "pygments_lexer": "ipython3",
   "version": "3.9.18"
  }
 },
 "nbformat": 4,
 "nbformat_minor": 2
}
