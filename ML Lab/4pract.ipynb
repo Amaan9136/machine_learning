{
 "cells": [
  {
   "cell_type": "code",
   "execution_count": 58,
   "metadata": {},
   "outputs": [
    {
     "name": "stdout",
     "output_type": "stream",
     "text": [
      "Input: \n",
      "[[0.66666667 1.        ]\n",
      " [0.33333333 0.55555556]\n",
      " [1.         0.66666667]]\n",
      "Actual output: \n",
      "[[0.92]\n",
      " [0.86]\n",
      " [0.89]]\n",
      "Predicted Output: \n",
      " [[0.96907224]\n",
      " [0.96142998]\n",
      " [0.96841738]]\n"
     ]
    }
   ],
   "source": [
    "# 4\n",
    "import numpy as np\n",
    "X=np.array(([2,9],[1,5],[3,6]),dtype=float)\n",
    "y=np.array(([92],[86],[89]),dtype=float)\n",
    "\n",
    "X=X/np.amax(X,axis=0)\n",
    "y=y/100\n",
    "\n",
    "def sigmoid(x):\n",
    "    return 1/(1+np.exp(-x))\n",
    "def derivatives_sigmoid(x):\n",
    "    return x*(1-x)\n",
    "\n",
    "epoch=5000\n",
    "lr=0.1\n",
    "\n",
    "inputlayer_neurons=2\n",
    "hiddenlayer_neurons=3\n",
    "output_neurons=1\n",
    "\n",
    "wh=np.random.uniform(size=(inputlayer_neurons,hiddenlayer_neurons))\n",
    "bh=np.random.uniform(size=(1,hiddenlayer_neurons))\n",
    "wout=np.random.uniform(size=(hiddenlayer_neurons,output_neurons))\n",
    "bout=np.random.uniform(size=(1,output_neurons))\n",
    "\n",
    "for i in range(epoch):\n",
    "    hinpl=np.dot(X,wh)+bh\n",
    "    hlayer_act=sigmoid(hinpl)\n",
    "\n",
    "    outinpl=np.dot(hlayer_act,wout)+bout\n",
    "    output=sigmoid(outinpl)\n",
    "\n",
    "    # till this is enough\n",
    "\n",
    "    EO=y-output\n",
    "    outgrad=EO*derivatives_sigmoid(output)\n",
    "\n",
    "    EH=outgrad.dot(wout.T)\n",
    "    hiddengrad=EH*derivatives_sigmoid(hlayer_act)\n",
    "\n",
    "    wout+=hlayer_act.T.dot(outgrad)*lr\n",
    "    wh+=X.T.dot(hiddengrad)*lr\n",
    "\n",
    "    # the code above is to improve some accuracy\n",
    "    \n",
    "print(\"Input: \\n\"+str(X))\n",
    "print(\"Actual output: \\n\"+str(y))\n",
    "print(\"Predicted Output: \\n\",output)"
   ]
  },
  {
   "cell_type": "code",
   "execution_count": 79,
   "metadata": {},
   "outputs": [
    {
     "name": "stdout",
     "output_type": "stream",
     "text": [
      "[[0.66666667 1.        ]\n",
      " [0.33333333 0.55555556]\n",
      " [1.         0.66666667]]\n",
      "[[0.86]\n",
      " [0.89]\n",
      " [0.9 ]]\n",
      "[[0.96098671]\n",
      " [0.91556577]\n",
      " [0.95752535]]\n"
     ]
    }
   ],
   "source": [
    "# read this\n",
    "import numpy as np\n",
    "\n",
    "X=np.array(([2,9],[1,5],[3,6]),dtype=float)\n",
    "y=np.array(([92],[86],[89]),dtype=float)\n",
    "\n",
    "def deri(x):\n",
    "  return x*(1-x)\n",
    "\n",
    "def sigmoid(x):\n",
    "  return 1/(1+np.exp(-x))\n",
    "\n",
    "X=X/np.amax(X,axis=0)\n",
    "y=y/100\n",
    "input_layer = 2\n",
    "hid_layer = 3\n",
    "out_layer = 1\n",
    "\n",
    "wh=np.random.uniform(size=(input_layer,hid_layer))\n",
    "bh=np.random.uniform(size=(1,hid_layer))\n",
    "wout=np.random.uniform(size=(hid_layer,out_layer))\n",
    "bout=np.random.uniform(size=(1,out_layer))\n",
    "\n",
    "epoch=5000\n",
    "lr=0.1\n",
    "\n",
    "for i in range(epoch):\n",
    "  hidL=np.dot(X,wh)+bh\n",
    "  hSig=sigmoid(hidL)\n",
    "  outL=np.dot(hidL,wout)+bout\n",
    "  oSig=sigmoid(outL)\n",
    "  \n",
    "print(X)\n",
    "print(y)\n",
    "print(oSig)"
   ]
  }
 ],
 "metadata": {
  "kernelspec": {
   "display_name": "my_env",
   "language": "python",
   "name": "python3"
  },
  "language_info": {
   "codemirror_mode": {
    "name": "ipython",
    "version": 3
   },
   "file_extension": ".py",
   "mimetype": "text/x-python",
   "name": "python",
   "nbconvert_exporter": "python",
   "pygments_lexer": "ipython3",
   "version": "3.9.18"
  }
 },
 "nbformat": 4,
 "nbformat_minor": 2
}
