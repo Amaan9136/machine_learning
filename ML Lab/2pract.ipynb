{
 "cells": [
  {
   "cell_type": "code",
   "execution_count": 46,
   "metadata": {},
   "outputs": [
    {
     "name": "stdout",
     "output_type": "stream",
     "text": [
      "[['sky', 'airtemp', 'humidity', 'wind', 'water', 'forecast', 'enjoy'], ['sunny', 'warm', 'normal', 'strong', 'warm', 'same', 'yes'], ['sunny', 'warm', 'high', 'strong', 'warm', 'same', 'yes'], ['Rainy', 'cold', 'high', 'strong', 'warm', 'change', 'no'], ['sunny', 'warm', 'high', 'strong', 'cool', 'change', 'yes']]\n"
     ]
    }
   ],
   "source": [
    "import csv\n",
    "\n",
    "data = []\n",
    "with open(\"lab2.csv\",\"r\") as f:\n",
    "  for row in csv.reader(f):\n",
    "    data.append(row)\n",
    "  print(data)"
   ]
  },
  {
   "cell_type": "code",
   "execution_count": 47,
   "metadata": {},
   "outputs": [],
   "source": [
    "specific = data[1][:-1]\n",
    "general = [[\"?\" for _ in range(len(specific))] for _ in range(len(specific))]"
   ]
  },
  {
   "cell_type": "code",
   "execution_count": 48,
   "metadata": {},
   "outputs": [
    {
     "name": "stdout",
     "output_type": "stream",
     "text": [
      "['sky', 'airtemp', 'humidity', 'wind', 'water', 'forecast', 'enjoy']\n",
      "\n",
      "Step 1 of Candidate Elimination Algorithm\n",
      "Specific hypothesis:  ['sunny', 'warm', 'normal', 'strong', 'warm', 'same']\n",
      "General hypothesis:  [['?', '?', '?', '?', '?', '?'], ['?', '?', '?', '?', '?', '?'], ['?', '?', '?', '?', '?', '?'], ['?', '?', '?', '?', '?', '?'], ['?', '?', '?', '?', '?', '?'], ['?', '?', '?', '?', '?', '?']]\n",
      "['sunny', 'warm', 'normal', 'strong', 'warm', 'same', 'yes']\n",
      "\n",
      "Step 2 of Candidate Elimination Algorithm\n",
      "Specific hypothesis:  ['sunny', 'warm', 'normal', 'strong', 'warm', 'same']\n",
      "General hypothesis:  [['?', '?', '?', '?', '?', '?'], ['?', '?', '?', '?', '?', '?'], ['?', '?', '?', '?', '?', '?'], ['?', '?', '?', '?', '?', '?'], ['?', '?', '?', '?', '?', '?'], ['?', '?', '?', '?', '?', '?']]\n",
      "['sunny', 'warm', 'high', 'strong', 'warm', 'same', 'yes']\n",
      "\n",
      "Step 3 of Candidate Elimination Algorithm\n",
      "Specific hypothesis:  ['sunny', 'warm', '?', 'strong', 'warm', 'same']\n",
      "General hypothesis:  [['?', '?', '?', '?', '?', '?'], ['?', '?', '?', '?', '?', '?'], ['?', '?', '?', '?', '?', '?'], ['?', '?', '?', '?', '?', '?'], ['?', '?', '?', '?', '?', '?'], ['?', '?', '?', '?', '?', '?']]\n",
      "['Rainy', 'cold', 'high', 'strong', 'warm', 'change', 'no']\n",
      "\n",
      "Step 4 of Candidate Elimination Algorithm\n",
      "Specific hypothesis:  ['sunny', 'warm', '?', 'strong', 'warm', 'same']\n",
      "General hypothesis:  [['sunny', '?', '?', '?', '?', '?'], ['?', 'warm', '?', '?', '?', '?'], ['?', '?', '?', '?', '?', '?'], ['?', '?', '?', '?', '?', '?'], ['?', '?', '?', '?', '?', '?'], ['?', '?', '?', '?', '?', 'same']]\n",
      "['sunny', 'warm', 'high', 'strong', 'cool', 'change', 'yes']\n",
      "\n",
      "Step 5 of Candidate Elimination Algorithm\n",
      "Specific hypothesis:  ['sunny', 'warm', '?', 'strong', '?', '?']\n",
      "General hypothesis:  [['sunny', '?', '?', '?', '?', '?'], ['?', 'warm', '?', '?', '?', '?'], ['?', '?', '?', '?', '?', '?'], ['?', '?', '?', '?', '?', '?'], ['?', '?', '?', '?', '?', '?'], ['?', '?', '?', '?', '?', '?']]\n"
     ]
    }
   ],
   "source": [
    "for i in data:\n",
    "  print(i)\n",
    "  if i[-1] == \"yes\":\n",
    "    for j in range(len(specific)):\n",
    "      if i[j] != specific[j]:\n",
    "        specific[j] = \"?\"\n",
    "        general[j][j] = \"?\"\n",
    "  elif i[-1]==\"no\":\n",
    "    for j in range(len(specific)):\n",
    "      if i[j] !=specific[j]:\n",
    "        general[j][j]=specific[j]\n",
    "      else:\n",
    "        general[j][j] =\"?\"\n",
    "  print(f\"\\nStep {data.index(i)+1} of Candidate Elimination Algorithm\") \n",
    "  print(\"Specific hypothesis: \", specific) \n",
    "  print(\"General hypothesis: \", general) "
   ]
  },
  {
   "cell_type": "markdown",
   "metadata": {},
   "source": []
  },
  {
   "cell_type": "code",
   "execution_count": 49,
   "metadata": {},
   "outputs": [
    {
     "name": "stdout",
     "output_type": "stream",
     "text": [
      "\n",
      "Final Specific hypothesis:\n",
      " ['sunny', 'warm', '?', 'strong', '?', '?']\n",
      "\n",
      "Final General hypothesis:\n",
      " [['sunny', '?', '?', '?', '?', '?'], ['?', 'warm', '?', '?', '?', '?']]\n"
     ]
    }
   ],
   "source": [
    "gh = []\n",
    "\n",
    "for i in general:\n",
    "  for j in i:\n",
    "    if j!='?':\n",
    "      gh.append(i)\n",
    "      break\n",
    "\n",
    "        \n",
    "print(\"\\nFinal Specific hypothesis:\\n\", specific) \n",
    "print(\"\\nFinal General hypothesis:\\n\", gh)\n"
   ]
  }
 ],
 "metadata": {
  "kernelspec": {
   "display_name": "my_env",
   "language": "python",
   "name": "python3"
  },
  "language_info": {
   "codemirror_mode": {
    "name": "ipython",
    "version": 3
   },
   "file_extension": ".py",
   "mimetype": "text/x-python",
   "name": "python",
   "nbconvert_exporter": "python",
   "pygments_lexer": "ipython3",
   "version": "3.9.18"
  }
 },
 "nbformat": 4,
 "nbformat_minor": 2
}
