{
 "cells": [
  {
   "cell_type": "code",
   "execution_count": 22,
   "metadata": {},
   "outputs": [],
   "source": [
    "import pandas\n",
    "import numpy as np\n",
    "\n",
    "# Load the Wine Quality Red dataset\n",
    "file = pandas.read_csv(\"../datasets/Position_Salaries.csv\")\n",
    "\n",
    "X=file.values"
   ]
  },
  {
   "cell_type": "markdown",
   "metadata": {},
   "source": [
    "# About Reshape"
   ]
  },
  {
   "cell_type": "code",
   "execution_count": 28,
   "metadata": {},
   "outputs": [
    {
     "name": "stdout",
     "output_type": "stream",
     "text": [
      "X values:\n",
      " [['Business Analyst' 1 45000]\n",
      " ['Junior Consultant' 2 50000]\n",
      " ['Senior Consultant' 3 60000]\n",
      " ['Manager' 4 80000]\n",
      " ['Country Manager' 5 110000]\n",
      " ['Region Manager' 6 150000]\n",
      " ['Partner' 7 200000]\n",
      " ['Senior Partner' 8 300000]\n",
      " ['C-level' 9 500000]\n",
      " ['CEO' 10 1000000]]\n",
      "X reshape values:\n",
      " [['Business Analyst' 1 45000 'Junior Consultant' 2 50000]\n",
      " ['Senior Consultant' 3 60000 'Manager' 4 80000]\n",
      " ['Country Manager' 5 110000 'Region Manager' 6 150000]\n",
      " ['Partner' 7 200000 'Senior Partner' 8 300000]\n",
      " ['C-level' 9 500000 'CEO' 10 1000000]]\n"
     ]
    }
   ],
   "source": [
    "# reshape() makes row data to column\n",
    "# here reshape(-1,6) means \n",
    "# -1 is to make row to colum and if given 1 then column to row\n",
    "# 6 is to split the row in 6 data \n",
    "\n",
    "print('X values:\\n',X)\n",
    "print('X reshape values:\\n',X.reshape(-1, 6))"
   ]
  }
 ],
 "metadata": {
  "kernelspec": {
   "display_name": "my_env",
   "language": "python",
   "name": "python3"
  },
  "language_info": {
   "codemirror_mode": {
    "name": "ipython",
    "version": 3
   },
   "file_extension": ".py",
   "mimetype": "text/x-python",
   "name": "python",
   "nbconvert_exporter": "python",
   "pygments_lexer": "ipython3",
   "version": "3.9.18"
  }
 },
 "nbformat": 4,
 "nbformat_minor": 2
}
