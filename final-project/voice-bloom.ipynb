{
 "cells": [
  {
   "cell_type": "code",
   "execution_count": 8,
   "metadata": {},
   "outputs": [
    {
     "name": "stdout",
     "output_type": "stream",
     "text": [
      "Listening...\n"
     ]
    },
    {
     "ename": "KeyboardInterrupt",
     "evalue": "",
     "output_type": "error",
     "traceback": [
      "\u001b[1;31m---------------------------------------------------------------------------\u001b[0m",
      "\u001b[1;31mKeyboardInterrupt\u001b[0m                         Traceback (most recent call last)",
      "Cell \u001b[1;32mIn[8], line 55\u001b[0m\n\u001b[0;32m     51\u001b[0m                 \u001b[38;5;28mprint\u001b[39m(\u001b[38;5;124mf\u001b[39m\u001b[38;5;124m\"\u001b[39m\u001b[38;5;124mAn error occurred: \u001b[39m\u001b[38;5;132;01m{\u001b[39;00me\u001b[38;5;132;01m}\u001b[39;00m\u001b[38;5;124m\"\u001b[39m)\n\u001b[0;32m     53\u001b[0m \u001b[38;5;28;01mif\u001b[39;00m \u001b[38;5;18m__name__\u001b[39m \u001b[38;5;241m==\u001b[39m \u001b[38;5;124m\"\u001b[39m\u001b[38;5;124m__main__\u001b[39m\u001b[38;5;124m\"\u001b[39m:\n\u001b[0;32m     54\u001b[0m     \u001b[38;5;66;03m# Set source language to English and target language to Kannada\u001b[39;00m\n\u001b[1;32m---> 55\u001b[0m     \u001b[43mreal_time_translate\u001b[49m\u001b[43m(\u001b[49m\u001b[43msource_lang\u001b[49m\u001b[38;5;241;43m=\u001b[39;49m\u001b[38;5;124;43m'\u001b[39;49m\u001b[38;5;124;43men\u001b[39;49m\u001b[38;5;124;43m'\u001b[39;49m\u001b[43m,\u001b[49m\u001b[43m \u001b[49m\u001b[43mtarget_lang\u001b[49m\u001b[38;5;241;43m=\u001b[39;49m\u001b[38;5;124;43m'\u001b[39;49m\u001b[38;5;124;43mkn\u001b[39;49m\u001b[38;5;124;43m'\u001b[39;49m\u001b[43m)\u001b[49m\n",
      "Cell \u001b[1;32mIn[8], line 26\u001b[0m, in \u001b[0;36mreal_time_translate\u001b[1;34m(source_lang, target_lang)\u001b[0m\n\u001b[0;32m     24\u001b[0m \u001b[38;5;28;01mwhile\u001b[39;00m \u001b[38;5;28;01mTrue\u001b[39;00m:\n\u001b[0;32m     25\u001b[0m     \u001b[38;5;28;01mtry\u001b[39;00m:\n\u001b[1;32m---> 26\u001b[0m         audio \u001b[38;5;241m=\u001b[39m \u001b[43mrecognizer\u001b[49m\u001b[38;5;241;43m.\u001b[39;49m\u001b[43mlisten\u001b[49m\u001b[43m(\u001b[49m\u001b[43msource\u001b[49m\u001b[43m,\u001b[49m\u001b[43m \u001b[49m\u001b[43mtimeout\u001b[49m\u001b[38;5;241;43m=\u001b[39;49m\u001b[38;5;241;43m5\u001b[39;49m\u001b[43m,\u001b[49m\u001b[43m \u001b[49m\u001b[43mphrase_time_limit\u001b[49m\u001b[38;5;241;43m=\u001b[39;49m\u001b[38;5;241;43m5\u001b[39;49m\u001b[43m)\u001b[49m\n\u001b[0;32m     27\u001b[0m         text \u001b[38;5;241m=\u001b[39m recognizer\u001b[38;5;241m.\u001b[39mrecognize_google(audio, language\u001b[38;5;241m=\u001b[39msource_lang)\n\u001b[0;32m     28\u001b[0m         \u001b[38;5;28mprint\u001b[39m(\u001b[38;5;124mf\u001b[39m\u001b[38;5;124m\"\u001b[39m\u001b[38;5;124mOriginal Text (\u001b[39m\u001b[38;5;132;01m{\u001b[39;00msource_lang\u001b[38;5;132;01m}\u001b[39;00m\u001b[38;5;124m): \u001b[39m\u001b[38;5;132;01m{\u001b[39;00mtext\u001b[38;5;132;01m}\u001b[39;00m\u001b[38;5;124m\"\u001b[39m)\n",
      "File \u001b[1;32mc:\\Users\\Amaan M k\\anaconda3\\envs\\my_env\\lib\\site-packages\\speech_recognition\\__init__.py:709\u001b[0m, in \u001b[0;36mRecognizer.listen\u001b[1;34m(self, source, timeout, phrase_time_limit, snowboy_configuration)\u001b[0m\n\u001b[0;32m    706\u001b[0m \u001b[38;5;28;01mif\u001b[39;00m phrase_time_limit \u001b[38;5;129;01mand\u001b[39;00m elapsed_time \u001b[38;5;241m-\u001b[39m phrase_start_time \u001b[38;5;241m>\u001b[39m phrase_time_limit:\n\u001b[0;32m    707\u001b[0m     \u001b[38;5;28;01mbreak\u001b[39;00m\n\u001b[1;32m--> 709\u001b[0m buffer \u001b[38;5;241m=\u001b[39m \u001b[43msource\u001b[49m\u001b[38;5;241;43m.\u001b[39;49m\u001b[43mstream\u001b[49m\u001b[38;5;241;43m.\u001b[39;49m\u001b[43mread\u001b[49m\u001b[43m(\u001b[49m\u001b[43msource\u001b[49m\u001b[38;5;241;43m.\u001b[39;49m\u001b[43mCHUNK\u001b[49m\u001b[43m)\u001b[49m\n\u001b[0;32m    710\u001b[0m \u001b[38;5;28;01mif\u001b[39;00m \u001b[38;5;28mlen\u001b[39m(buffer) \u001b[38;5;241m==\u001b[39m \u001b[38;5;241m0\u001b[39m: \u001b[38;5;28;01mbreak\u001b[39;00m  \u001b[38;5;66;03m# reached end of the stream\u001b[39;00m\n\u001b[0;32m    711\u001b[0m frames\u001b[38;5;241m.\u001b[39mappend(buffer)\n",
      "File \u001b[1;32mc:\\Users\\Amaan M k\\anaconda3\\envs\\my_env\\lib\\site-packages\\speech_recognition\\__init__.py:211\u001b[0m, in \u001b[0;36mMicrophone.MicrophoneStream.read\u001b[1;34m(self, size)\u001b[0m\n\u001b[0;32m    210\u001b[0m \u001b[38;5;28;01mdef\u001b[39;00m \u001b[38;5;21mread\u001b[39m(\u001b[38;5;28mself\u001b[39m, size):\n\u001b[1;32m--> 211\u001b[0m     \u001b[38;5;28;01mreturn\u001b[39;00m \u001b[38;5;28;43mself\u001b[39;49m\u001b[38;5;241;43m.\u001b[39;49m\u001b[43mpyaudio_stream\u001b[49m\u001b[38;5;241;43m.\u001b[39;49m\u001b[43mread\u001b[49m\u001b[43m(\u001b[49m\u001b[43msize\u001b[49m\u001b[43m,\u001b[49m\u001b[43m \u001b[49m\u001b[43mexception_on_overflow\u001b[49m\u001b[38;5;241;43m=\u001b[39;49m\u001b[38;5;28;43;01mFalse\u001b[39;49;00m\u001b[43m)\u001b[49m\n",
      "File \u001b[1;32mc:\\Users\\Amaan M k\\anaconda3\\envs\\my_env\\lib\\site-packages\\pyaudio.py:612\u001b[0m, in \u001b[0;36mStream.read\u001b[1;34m(self, num_frames, exception_on_overflow)\u001b[0m\n\u001b[0;32m    608\u001b[0m \u001b[38;5;28;01mif\u001b[39;00m \u001b[38;5;129;01mnot\u001b[39;00m \u001b[38;5;28mself\u001b[39m\u001b[38;5;241m.\u001b[39m_is_input:\n\u001b[0;32m    609\u001b[0m     \u001b[38;5;28;01mraise\u001b[39;00m \u001b[38;5;167;01mIOError\u001b[39;00m(\u001b[38;5;124m\"\u001b[39m\u001b[38;5;124mNot input stream\u001b[39m\u001b[38;5;124m\"\u001b[39m,\n\u001b[0;32m    610\u001b[0m                   paCanNotReadFromAnOutputOnlyStream)\n\u001b[1;32m--> 612\u001b[0m \u001b[38;5;28;01mreturn\u001b[39;00m \u001b[43mpa\u001b[49m\u001b[38;5;241;43m.\u001b[39;49m\u001b[43mread_stream\u001b[49m\u001b[43m(\u001b[49m\u001b[38;5;28;43mself\u001b[39;49m\u001b[38;5;241;43m.\u001b[39;49m\u001b[43m_stream\u001b[49m\u001b[43m,\u001b[49m\u001b[43m \u001b[49m\u001b[43mnum_frames\u001b[49m\u001b[43m,\u001b[49m\u001b[43m \u001b[49m\u001b[43mexception_on_overflow\u001b[49m\u001b[43m)\u001b[49m\n",
      "\u001b[1;31mKeyboardInterrupt\u001b[0m: "
     ]
    }
   ],
   "source": [
    "import speech_recognition as sr\n",
    "from googletrans import Translator\n",
    "from gtts import gTTS\n",
    "import os\n",
    "import platform\n",
    "\n",
    "# Initialize recognizer and translator\n",
    "recognizer = sr.Recognizer()\n",
    "translator = Translator()\n",
    "\n",
    "# Function to play audio\n",
    "def play_audio(file_path):\n",
    "    if platform.system() == \"Windows\":\n",
    "        os.system(f\"start {file_path}\")\n",
    "    elif platform.system() == \"Darwin\":  # macOS\n",
    "        os.system(f\"afplay {file_path}\")\n",
    "    elif platform.system() == \"Linux\":\n",
    "        os.system(f\"mpg123 {file_path}\")\n",
    "\n",
    "# Real-time translation function\n",
    "def real_time_translate(source_lang='en', target_lang='kn'):\n",
    "    with sr.Microphone() as source:\n",
    "        print(\"Listening...\")\n",
    "        while True:\n",
    "            try:\n",
    "                audio = recognizer.listen(source, timeout=5, phrase_time_limit=5)\n",
    "                text = recognizer.recognize_google(audio, language=source_lang)\n",
    "                print(f\"Original Text ({source_lang}): {text}\")\n",
    "\n",
    "                # Translate text\n",
    "                translated_text = translator.translate(text, src=source_lang, dest=target_lang).text\n",
    "                print(f\"Translated Text ({target_lang}): {translated_text}\")\n",
    "\n",
    "                # Convert translated text to speech\n",
    "                tts = gTTS(text=translated_text, lang=target_lang)\n",
    "                \n",
    "                # Save the audio file with a fixed filename (overwriting the old file)\n",
    "                filename = \"translated_audio.mp3\"\n",
    "                tts.save(filename)\n",
    "                \n",
    "                print(f\"Saved audio file: {filename}\")\n",
    "                \n",
    "                # Play the translated speech\n",
    "                play_audio(filename)\n",
    "\n",
    "            except sr.UnknownValueError:\n",
    "                print(\"Could not understand the audio.\")\n",
    "            except sr.RequestError as e:\n",
    "                print(f\"Could not request results; {e}\")\n",
    "            except Exception as e:\n",
    "                print(f\"An error occurred: {e}\")\n",
    "\n",
    "if __name__ == \"__main__\":\n",
    "    # Set source language to English and target language to Kannada\n",
    "    real_time_translate(source_lang='en', target_lang='kn')\n"
   ]
  },
  {
   "cell_type": "markdown",
   "metadata": {},
   "source": [
    " different language audio while maintaining the same tone and effect"
   ]
  },
  {
   "cell_type": "code",
   "execution_count": 9,
   "metadata": {},
   "outputs": [
    {
     "ename": "ModuleNotFoundError",
     "evalue": "No module named 'some_voice_cloning_library'",
     "output_type": "error",
     "traceback": [
      "\u001b[1;31m---------------------------------------------------------------------------\u001b[0m",
      "\u001b[1;31mModuleNotFoundError\u001b[0m                       Traceback (most recent call last)",
      "Cell \u001b[1;32mIn[9], line 3\u001b[0m\n\u001b[0;32m      1\u001b[0m \u001b[38;5;28;01mimport\u001b[39;00m \u001b[38;5;21;01mspeech_recognition\u001b[39;00m \u001b[38;5;28;01mas\u001b[39;00m \u001b[38;5;21;01msr\u001b[39;00m\n\u001b[0;32m      2\u001b[0m \u001b[38;5;28;01mfrom\u001b[39;00m \u001b[38;5;21;01mgoogletrans\u001b[39;00m \u001b[38;5;28;01mimport\u001b[39;00m Translator\n\u001b[1;32m----> 3\u001b[0m \u001b[38;5;28;01mfrom\u001b[39;00m \u001b[38;5;21;01msome_voice_cloning_library\u001b[39;00m \u001b[38;5;28;01mimport\u001b[39;00m VoiceCloner  \u001b[38;5;66;03m# Placeholder for voice cloning library\u001b[39;00m\n\u001b[0;32m      4\u001b[0m \u001b[38;5;28;01mimport\u001b[39;00m \u001b[38;5;21;01mos\u001b[39;00m\n\u001b[0;32m      5\u001b[0m \u001b[38;5;28;01mimport\u001b[39;00m \u001b[38;5;21;01mplatform\u001b[39;00m\n",
      "\u001b[1;31mModuleNotFoundError\u001b[0m: No module named 'some_voice_cloning_library'"
     ]
    }
   ],
   "source": [
    "import speech_recognition as sr\n",
    "from googletrans import Translator\n",
    "from some_voice_cloning_library import VoiceCloner  # Placeholder for voice cloning library\n",
    "import os\n",
    "import platform\n",
    "\n",
    "# Initialize recognizer, translator, and voice cloner\n",
    "recognizer = sr.Recognizer()\n",
    "translator = Translator()\n",
    "voice_cloner = VoiceCloner()  # Initialize your voice cloning model\n",
    "\n",
    "# Function to play audio\n",
    "def play_audio(file_path):\n",
    "    if platform.system() == \"Windows\":\n",
    "        os.system(f\"start {file_path}\")\n",
    "    elif platform.system() == \"Darwin\":  # macOS\n",
    "        os.system(f\"afplay {file_path}\")\n",
    "    elif platform.system() == \"Linux\":\n",
    "        os.system(f\"mpg123 {file_path}\")\n",
    "\n",
    "# Real-time translation and voice cloning function\n",
    "def real_time_translate(source_lang='en', target_lang='kn'):\n",
    "    with sr.Microphone() as source:\n",
    "        print(\"Listening...\")\n",
    "        while True:\n",
    "            try:\n",
    "                # Recognize speech\n",
    "                audio = recognizer.listen(source, timeout=5, phrase_time_limit=5)\n",
    "                text = recognizer.recognize_google(audio, language=source_lang)\n",
    "                print(f\"Original Text ({source_lang}): {text}\")\n",
    "\n",
    "                # Translate text\n",
    "                translated_text = translator.translate(text, src=source_lang, dest=target_lang).text\n",
    "                print(f\"Translated Text ({target_lang}): {translated_text}\")\n",
    "\n",
    "                # Clone the voice and generate speech in the target language\n",
    "                cloned_voice_audio = voice_cloner.clone_voice(text=translated_text, original_audio=audio)\n",
    "\n",
    "                # Save and play the audio file\n",
    "                filename = \"translated_audio.wav\"\n",
    "                cloned_voice_audio.save(filename)\n",
    "                \n",
    "                print(f\"Saved audio file: {filename}\")\n",
    "                play_audio(filename)\n",
    "\n",
    "            except sr.UnknownValueError:\n",
    "                print(\"Could not understand the audio.\")\n",
    "            except sr.RequestError as e:\n",
    "                print(f\"Could not request results; {e}\")\n",
    "            except Exception as e:\n",
    "                print(f\"An error occurred: {e}\")\n",
    "\n",
    "if __name__ == \"__main__\":\n",
    "    # Set source language to English and target language to Kannada\n",
    "    real_time_translate(source_lang='en', target_lang='kn')\n"
   ]
  },
  {
   "cell_type": "code",
   "execution_count": 13,
   "metadata": {},
   "outputs": [
    {
     "name": "stdout",
     "output_type": "stream",
     "text": [
      "Requirement already satisfied: speechrecognition in c:\\users\\amaan m k\\anaconda3\\envs\\my_env\\lib\\site-packages (3.9.0)\n",
      "Requirement already satisfied: googletrans==4.0.0-rc1 in c:\\users\\amaan m k\\anaconda3\\envs\\my_env\\lib\\site-packages (4.0.0rc1)\n",
      "Requirement already satisfied: gtts in c:\\users\\amaan m k\\anaconda3\\envs\\my_env\\lib\\site-packages (2.5.3)\n",
      "Requirement already satisfied: httpx==0.13.3 in c:\\users\\amaan m k\\anaconda3\\envs\\my_env\\lib\\site-packages (from googletrans==4.0.0-rc1) (0.13.3)\n",
      "Requirement already satisfied: certifi in c:\\users\\amaan m k\\anaconda3\\envs\\my_env\\lib\\site-packages (from httpx==0.13.3->googletrans==4.0.0-rc1) (2023.5.7)\n",
      "Requirement already satisfied: hstspreload in c:\\users\\amaan m k\\anaconda3\\envs\\my_env\\lib\\site-packages (from httpx==0.13.3->googletrans==4.0.0-rc1) (2024.8.1)\n",
      "Requirement already satisfied: sniffio in c:\\users\\amaan m k\\anaconda3\\envs\\my_env\\lib\\site-packages (from httpx==0.13.3->googletrans==4.0.0-rc1) (1.3.0)\n",
      "Requirement already satisfied: chardet==3.* in c:\\users\\amaan m k\\anaconda3\\envs\\my_env\\lib\\site-packages (from httpx==0.13.3->googletrans==4.0.0-rc1) (3.0.4)\n",
      "Requirement already satisfied: idna==2.* in c:\\users\\amaan m k\\anaconda3\\envs\\my_env\\lib\\site-packages (from httpx==0.13.3->googletrans==4.0.0-rc1) (2.10)\n",
      "Requirement already satisfied: rfc3986<2,>=1.3 in c:\\users\\amaan m k\\anaconda3\\envs\\my_env\\lib\\site-packages (from httpx==0.13.3->googletrans==4.0.0-rc1) (1.5.0)\n",
      "Requirement already satisfied: httpcore==0.9.* in c:\\users\\amaan m k\\anaconda3\\envs\\my_env\\lib\\site-packages (from httpx==0.13.3->googletrans==4.0.0-rc1) (0.9.1)\n",
      "Requirement already satisfied: h11<0.10,>=0.8 in c:\\users\\amaan m k\\anaconda3\\envs\\my_env\\lib\\site-packages (from httpcore==0.9.*->httpx==0.13.3->googletrans==4.0.0-rc1) (0.9.0)\n",
      "Requirement already satisfied: h2==3.* in c:\\users\\amaan m k\\anaconda3\\envs\\my_env\\lib\\site-packages (from httpcore==0.9.*->httpx==0.13.3->googletrans==4.0.0-rc1) (3.2.0)\n",
      "Requirement already satisfied: hyperframe<6,>=5.2.0 in c:\\users\\amaan m k\\anaconda3\\envs\\my_env\\lib\\site-packages (from h2==3.*->httpcore==0.9.*->httpx==0.13.3->googletrans==4.0.0-rc1) (5.2.0)\n",
      "Requirement already satisfied: hpack<4,>=3.0 in c:\\users\\amaan m k\\anaconda3\\envs\\my_env\\lib\\site-packages (from h2==3.*->httpcore==0.9.*->httpx==0.13.3->googletrans==4.0.0-rc1) (3.0.0)\n",
      "Requirement already satisfied: requests>=2.26.0 in c:\\users\\amaan m k\\anaconda3\\envs\\my_env\\lib\\site-packages (from speechrecognition) (2.30.0)\n",
      "Requirement already satisfied: click<8.2,>=7.1 in c:\\users\\amaan m k\\anaconda3\\envs\\my_env\\lib\\site-packages (from gtts) (8.1.3)\n",
      "Requirement already satisfied: colorama in c:\\users\\amaan m k\\anaconda3\\envs\\my_env\\lib\\site-packages (from click<8.2,>=7.1->gtts) (0.4.6)\n",
      "Requirement already satisfied: charset-normalizer<4,>=2 in c:\\users\\amaan m k\\anaconda3\\envs\\my_env\\lib\\site-packages (from requests>=2.26.0->speechrecognition) (3.1.0)\n",
      "Requirement already satisfied: urllib3<3,>=1.21.1 in c:\\users\\amaan m k\\anaconda3\\envs\\my_env\\lib\\site-packages (from requests>=2.26.0->speechrecognition) (2.0.2)\n"
     ]
    },
    {
     "name": "stderr",
     "output_type": "stream",
     "text": [
      "\n",
      "[notice] A new release of pip is available: 24.1.2 -> 24.2\n",
      "[notice] To update, run: python.exe -m pip install --upgrade pip\n"
     ]
    }
   ],
   "source": [
    "!pip install speechrecognition googletrans==4.0.0-rc1 gtts\n",
    "\n"
   ]
  },
  {
   "cell_type": "code",
   "execution_count": 17,
   "metadata": {},
   "outputs": [
    {
     "name": "stderr",
     "output_type": "stream",
     "text": [
      "Cloning into 'so-vits-svc'...\n"
     ]
    }
   ],
   "source": [
    "!git clone https://github.com/svc-develop-team/so-vits-svc\n",
    "\n"
   ]
  },
  {
   "cell_type": "code",
   "execution_count": 25,
   "metadata": {},
   "outputs": [
    {
     "ename": "SyntaxError",
     "evalue": "invalid syntax (3103546316.py, line 1)",
     "output_type": "error",
     "traceback": [
      "\u001b[1;36m  Cell \u001b[1;32mIn[25], line 1\u001b[1;36m\u001b[0m\n\u001b[1;33m    cd final-project/so-vits-svc\u001b[0m\n\u001b[1;37m       ^\u001b[0m\n\u001b[1;31mSyntaxError\u001b[0m\u001b[1;31m:\u001b[0m invalid syntax\n"
     ]
    }
   ],
   "source": [
    "cd final-project/so-vits-svc\n",
    "!pip install -r requirements.txt\n"
   ]
  }
 ],
 "metadata": {
  "kernelspec": {
   "display_name": "my_env",
   "language": "python",
   "name": "python3"
  },
  "language_info": {
   "codemirror_mode": {
    "name": "ipython",
    "version": 3
   },
   "file_extension": ".py",
   "mimetype": "text/x-python",
   "name": "python",
   "nbconvert_exporter": "python",
   "pygments_lexer": "ipython3",
   "version": "3.9.18"
  }
 },
 "nbformat": 4,
 "nbformat_minor": 2
}
