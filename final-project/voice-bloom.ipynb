{
 "cells": [
  {
   "cell_type": "code",
   "execution_count": null,
   "metadata": {},
   "outputs": [],
   "source": [
    "import speech_recognition as sr\n",
    "from googletrans import Translator\n",
    "from gtts import gTTS\n",
    "import os\n",
    "import platform\n",
    "\n",
    "# Initialize recognizer and translator\n",
    "recognizer = sr.Recognizer()\n",
    "translator = Translator()\n",
    "\n",
    "# Function to play audio\n",
    "def play_audio(file_path):\n",
    "    if platform.system() == \"Windows\":\n",
    "        os.system(f\"start {file_path}\")\n",
    "    elif platform.system() == \"Darwin\":  # macOS\n",
    "        os.system(f\"afplay {file_path}\")\n",
    "    elif platform.system() == \"Linux\":\n",
    "        os.system(f\"mpg123 {file_path}\")\n",
    "\n",
    "# Real-time translation function\n",
    "def real_time_translate(source_lang='en', target_lang='kn'):\n",
    "    with sr.Microphone() as source:\n",
    "        print(\"Listening...\")\n",
    "        while True:\n",
    "            try:\n",
    "                audio = recognizer.listen(source, timeout=5, phrase_time_limit=5)\n",
    "                text = recognizer.recognize_google(audio, language=source_lang)\n",
    "                print(f\"Original Text ({source_lang}): {text}\")\n",
    "\n",
    "                # Translate text\n",
    "                translated_text = translator.translate(text, src=source_lang, dest=target_lang).text\n",
    "                print(f\"Translated Text ({target_lang}): {translated_text}\")\n",
    "\n",
    "                # **Use a pre-trained Kannada TTS voice:**\n",
    "                tts = gTTS(text=translated_text, lang='kn')  # Replace with your preferred Kannada voice code\n",
    "\n",
    "                # Save the audio file (optional)\n",
    "                filename = \"translated_audio.mp3\"\n",
    "                tts.save(filename)\n",
    "\n",
    "                print(f\"Saved audio file (optional): {filename}\")\n",
    "\n",
    "                # Play the translated speech\n",
    "                play_audio(filename)\n",
    "\n",
    "            except sr.UnknownValueError:\n",
    "                print(\"Could not understand the audio.\")\n",
    "            except sr.RequestError as e:\n",
    "                print(f\"Could not request results; {e}\")\n",
    "            except Exception as e:\n",
    "                print(f\"An error occurred: {e}\")\n",
    "\n",
    "if __name__ == \"__main__\":\n",
    "    # Set source language to English and target language to Kannada\n",
    "    real_time_translate(source_lang='en', target_lang='kn')"
   ]
  }
 ],
 "metadata": {
  "kernelspec": {
   "display_name": "my_env",
   "language": "python",
   "name": "python3"
  },
  "language_info": {
   "codemirror_mode": {
    "name": "ipython",
    "version": 3
   },
   "file_extension": ".py",
   "mimetype": "text/x-python",
   "name": "python",
   "nbconvert_exporter": "python",
   "pygments_lexer": "ipython3",
   "version": "3.9.18"
  }
 },
 "nbformat": 4,
 "nbformat_minor": 2
}
