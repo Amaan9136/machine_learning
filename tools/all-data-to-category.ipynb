{
 "cells": [
  {
   "cell_type": "code",
   "execution_count": 8,
   "metadata": {},
   "outputs": [
    {
     "name": "stdout",
     "output_type": "stream",
     "text": [
      "    Outlook  Temperature  Humidity  Wind  Play\n",
      "0         2            1         0     1     0\n",
      "1         2            1         0     0     0\n",
      "2         0            1         0     1     1\n",
      "3         1            2         0     1     1\n",
      "4         1            0         1     1     1\n",
      "5         1            0         1     0     0\n",
      "6         0            0         1     0     1\n",
      "7         2            2         0     1     0\n",
      "8         2            0         1     1     1\n",
      "9         1            2         1     1     1\n",
      "10        2            2         1     0     1\n",
      "11        0            2         0     0     1\n",
      "12        0            1         1     1     1\n",
      "13        1            2         0     0     0\n"
     ]
    }
   ],
   "source": [
    "import pandas as pd\n",
    "\n",
    "data = pd.read_csv(\"../ML Lab/PlayTennis.csv\")\n",
    "\n",
    "for col in data.columns:\n",
    "  if data[col].dtype == \"object\":\n",
    "    data[col] = data[col].astype(\"category\")\n",
    "    data[col] = data[col].cat.codes\n",
    "    \n",
    "print(data)\n",
    "  "
   ]
  }
 ],
 "metadata": {
  "kernelspec": {
   "display_name": "my_env",
   "language": "python",
   "name": "python3"
  },
  "language_info": {
   "codemirror_mode": {
    "name": "ipython",
    "version": 3
   },
   "file_extension": ".py",
   "mimetype": "text/x-python",
   "name": "python",
   "nbconvert_exporter": "python",
   "pygments_lexer": "ipython3",
   "version": "3.9.18"
  }
 },
 "nbformat": 4,
 "nbformat_minor": 2
}
