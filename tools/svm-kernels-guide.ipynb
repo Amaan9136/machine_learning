{
 "cells": [
  {
   "cell_type": "code",
   "execution_count": null,
   "metadata": {},
   "outputs": [],
   "source": [
    "# from support-vector-machine import support-vector-regression\n",
    "from sklearn.svm import SVR\n",
    "\n",
    "# try all kernal and choose best one\n",
    "# recommended : Gaussian Kernel Radial Basis Function (RBF)\n",
    "regressor = SVR(kernel='rbf')\n",
    "\n",
    "\"\"\"\n",
    "Linear Kernel (linear) - this is best when we have to predict on Yes or No data, \n",
    "Polynomial Kernel (poly)  - this is best when we have to predict on Polynomial curve data, \n",
    "Gaussian Kernel Radial Basis Function (rbf)  - this is best when we have to predict on most of the curve structure data,\n",
    "Sigmoid Kernel (sigmoid) - this is best when we have to predict on sigmoid curve data, \n",
    "\"\"\""
   ]
  },
  {
   "cell_type": "markdown",
   "metadata": {},
   "source": [
    "<h2>Gaussian Kernel Radial Basis Function (RBF) formula</h2>\n",
    "\n",
    "<img src=\"../images/kernels.png\" width=\"600px\">"
   ]
  }
 ],
 "metadata": {
  "language_info": {
   "name": "python"
  }
 },
 "nbformat": 4,
 "nbformat_minor": 2
}
