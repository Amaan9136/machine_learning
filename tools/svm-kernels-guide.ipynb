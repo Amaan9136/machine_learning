{
 "cells": [
  {
   "cell_type": "code",
   "execution_count": null,
   "metadata": {},
   "outputs": [],
   "source": [
    "# from support-vector-machine import support-vector-regression\n",
    "from sklearn.svm import SVR\n",
    "\n",
    "# try all kernal and choose best one\n",
    "# recommended : Gaussian Kernel Radial Basis Function (RBF)\n",
    "regressor = SVR(kernel='rbf')"
   ]
  },
  {
   "cell_type": "markdown",
   "metadata": {},
   "source": [
    "<h1>Support Vector Machine's Basic Kernels</h1>\n",
    "<h3>Linear Kernel (linear) - this is best when we have to predict on Linear Data</h3>\n",
    "<h3>Polynomial Kernel (poly)  - this is best when we have to predict on Polynomial curve data</h3>\n",
    "<h3>Gaussian Kernel Radial Basis Function (rbf)  - this is best when we have to predict on most of the curve structure data or can also use this for Radial dataset</h3>\n",
    "<h3>Sigmoid Kernel (sigmoid) - this is best when we have to predict on sigmoid curve data</h3>"
   ]
  },
  {
   "cell_type": "markdown",
   "metadata": {},
   "source": [
    "<h2>Kernel Basis Function formula</h2>\n",
    "\n",
    "<img src=\"../images/kernels.png\" width=\"600px\">"
   ]
  },
  {
   "cell_type": "markdown",
   "metadata": {},
   "source": [
    "<h2>Linear Kernel (linear) - works same as linear regression uses formula <br/> Y = mx + c</h2>"
   ]
  }
 ],
 "metadata": {
  "language_info": {
   "name": "python"
  }
 },
 "nbformat": 4,
 "nbformat_minor": 2
}
