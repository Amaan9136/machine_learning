{
 "cells": [
  {
   "cell_type": "markdown",
   "metadata": {},
   "source": [
    "<h3>create a file with the column names</h3>\n",
    "column1,column2,column3"
   ]
  },
  {
   "cell_type": "code",
   "execution_count": 2,
   "metadata": {},
   "outputs": [],
   "source": [
    "import pandas as pd\n",
    "import numpy as np  # For generating random data, adjust as needed\n",
    "\n",
    "# Generate sample data (replace with your desired data generation logic)\n",
    "data = {\n",
    "    'column1': np.random.randint(1, 10, size=5),\n",
    "    'column2': np.random.randn(5),\n",
    "    'column3': ['A', 'B', 'C', 'D', 'E']\n",
    "}\n",
    "\n",
    "# Create a Pandas DataFrame from the generated data\n",
    "df_new = pd.DataFrame(data)\n",
    "# Read the existing CSV file\n",
    "df_existing = pd.read_csv('pandas_insert.csv')\n",
    "# Append the new data to the existing DataFrame\n",
    "df_combined = pd.concat([df_existing, df_new])\n",
    "\n",
    "# Write the combined DataFrame back to the CSV file\n",
    "# below line to save in same file \n",
    "df_combined.to_csv('pandas_insert.csv', index=False)\n",
    "\n",
    "# below line to save in another file \n",
    "# df_combined.to_csv(\"file_new.csv\", index=False)"
   ]
  }
 ],
 "metadata": {
  "kernelspec": {
   "display_name": "my_env",
   "language": "python",
   "name": "python3"
  },
  "language_info": {
   "codemirror_mode": {
    "name": "ipython",
    "version": 3
   },
   "file_extension": ".py",
   "mimetype": "text/x-python",
   "name": "python",
   "nbconvert_exporter": "python",
   "pygments_lexer": "ipython3",
   "version": "3.9.18"
  }
 },
 "nbformat": 4,
 "nbformat_minor": 2
}
