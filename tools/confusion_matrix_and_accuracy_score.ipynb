{
 "cells": [
  {
   "cell_type": "code",
   "execution_count": 11,
   "metadata": {},
   "outputs": [
    {
     "data": {
      "text/plain": [
       "array([[0, 1, 0],\n",
       "       [1, 2, 0],\n",
       "       [0, 0, 1]], dtype=int64)"
      ]
     },
     "execution_count": 11,
     "metadata": {},
     "output_type": "execute_result"
    }
   ],
   "source": [
    "from sklearn.metrics import confusion_matrix,accuracy_score\n",
    "y_true = [1, 2, 2, 2,3]\n",
    "y_pred = [2, 2, 2, 1,3]\n",
    "\n",
    "# the data is visualized using this matrix\n",
    "# lets say if i want to verify if the model gave y_test = 2 but got y_pred = 1. then Check Row 2 & Col 1\n",
    "# lets say if i want to verify if the model gave y_test = 3 but got y_pred = 3. then Check Row 3 & Col 3\n",
    "# lets say if i want to verify if the model gave y_test = 1 but got y_pred = 3. then Check Row 1 & Col 3\n",
    "# lets say if i want to verify if the model gave y_test = 2 and got y_pred = 2. then Check Row 2 & Col 2 (which is correct prediction)\n",
    "# the diagonal elements are correct prediction in confusion matrix\n",
    "\n",
    "confusion_matrix(y_true, y_pred,labels=[1,2,3])"
   ]
  },
  {
   "cell_type": "code",
   "execution_count": 12,
   "metadata": {},
   "outputs": [
    {
     "data": {
      "text/plain": [
       "0.6"
      ]
     },
     "execution_count": 12,
     "metadata": {},
     "output_type": "execute_result"
    }
   ],
   "source": [
    "# the diagonal elements are correct prediction in confusion matrix\n",
    "# Predicted data is 0,2,1 for Class 1, Class 2, Class 3 respectively\n",
    "# accuracy_score = total_predicted / actual_value\n",
    "\n",
    "accuracy_score(y_true, y_pred)"
   ]
  }
 ],
 "metadata": {
  "kernelspec": {
   "display_name": "my_env",
   "language": "python",
   "name": "python3"
  },
  "language_info": {
   "codemirror_mode": {
    "name": "ipython",
    "version": 3
   },
   "file_extension": ".py",
   "mimetype": "text/x-python",
   "name": "python",
   "nbconvert_exporter": "python",
   "pygments_lexer": "ipython3",
   "version": "3.9.18"
  }
 },
 "nbformat": 4,
 "nbformat_minor": 2
}
