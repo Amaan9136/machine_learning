{
 "cells": [
  {
   "cell_type": "markdown",
   "metadata": {},
   "source": [
    "# DATA OF REQUEST VS TIME TO PROCESS"
   ]
  },
  {
   "cell_type": "code",
   "execution_count": null,
   "metadata": {},
   "outputs": [],
   "source": [
    "import numpy as np\n",
    "import matplotlib.pyplot as plt\n",
    "\n",
    "# Generate time from 0 to 22 (in seconds)\n",
    "time = np.linspace(0, 22, 100)\n",
    "\n",
    "# Generate random request counts (100 requests)\n",
    "requests = np.random.randint(1, 10, size=100)\n",
    "\n",
    "# Create the time partitions (0-11 and 11-22)\n",
    "time_partition_1 = time[time <= 11]\n",
    "time_partition_2 = time[time > 11]\n",
    "\n",
    "# Create corresponding request data for each partition\n",
    "requests_partition_1 = requests[:len(time_partition_1)]\n",
    "requests_partition_2 = requests[len(time_partition_1):]\n",
    "\n",
    "# Plotting\n",
    "fig, ax = plt.subplots(figsize=(10, 6))\n",
    "\n",
    "# Plot the two partitions with different colors\n",
    "ax.plot(time_partition_1, requests_partition_1, color='blue', label='0-11 Time', linewidth=2)\n",
    "ax.plot(time_partition_2, requests_partition_2, color='green', label='11-22 Time', linewidth=2)\n",
    "\n",
    "# Highlight the partitions with colored regions\n",
    "ax.axvspan(0, 11, color='blue', alpha=0.1)\n",
    "ax.axvspan(11, 22, color='green', alpha=0.1)\n",
    "\n",
    "# Add labels, title, and grid\n",
    "ax.set_xlabel('Time (seconds)', fontsize=12)\n",
    "ax.set_ylabel('Requests', fontsize=12)\n",
    "ax.set_title('Request vs Time with Partitions', fontsize=14)\n",
    "ax.grid(True)\n",
    "\n",
    "# Show the legend\n",
    "ax.legend()\n",
    "\n",
    "# Show the plot\n",
    "plt.show()\n"
   ]
  }
 ],
 "metadata": {
  "kernelspec": {
   "display_name": "gemini",
   "language": "python",
   "name": "python3"
  },
  "language_info": {
   "name": "python",
   "version": "3.11.5"
  }
 },
 "nbformat": 4,
 "nbformat_minor": 2
}
