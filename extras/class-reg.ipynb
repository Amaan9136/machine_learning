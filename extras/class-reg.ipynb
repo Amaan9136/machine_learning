{
 "cells": [
  {
   "cell_type": "code",
   "execution_count": 22,
   "metadata": {},
   "outputs": [],
   "source": [
    "import matplotlib.pyplot as plt \n",
    "import pandas\n",
    "from sklearn.linear_model import LinearRegression\n",
    "from sklearn.linear_model import RidgeClassifier\n",
    "from sklearn.model_selection import train_test_split\n",
    "from sklearn.metrics import mean_squared_error, r2_score, mean_absolute_error\n",
    "\n",
    "# Load the Wine Quality Red dataset\n",
    "file = pandas.read_csv(\"datasets/iris.csv\") \n",
    "\n",
    "# Separate features and target\n",
    "X=file.iloc[:,:-1].values\n",
    "y=file.iloc[:,-1].values\n",
    "\n",
    "# Split the dataset into an 80-20 training-test set\n",
    "X_train,X_test,y_train,y_test = train_test_split(X,y,test_size=0.2,random_state=1)\n"
   ]
  },
  {
   "cell_type": "code",
   "execution_count": 23,
   "metadata": {},
   "outputs": [
    {
     "name": "stdout",
     "output_type": "stream",
     "text": [
      "[0 1 1 0 2 1 2 0 0 2 1 0 2 1 1 0 1 1 0 0 1 1 1 0 2 1 0 0 1 2] [-0.30170769  0.86686838  1.16108098 -0.08531273  1.84900269  1.42786017\n",
      "  1.7714971   0.17706667  0.05737643  1.97185548  1.25764165  0.04731024\n",
      "  1.8939019   1.28941615  1.3716362   0.02277807  1.09757468  1.45955196\n",
      " -0.02612087 -0.14011542  1.29506652  1.50279788  1.48564944 -0.05360225\n",
      "  1.76102557  1.20428688 -0.16767947 -0.00464195  1.26764385  1.66319295]\n"
     ]
    }
   ],
   "source": [
    "# regressor model creation (multiple regression)\n",
    "regressor = LinearRegression()\n",
    "\n",
    "# train model with multiple regression\n",
    "regressor.fit(X_train, y_train)\n",
    "\n",
    "# predict test data \n",
    "y_pred = regressor.predict(X_test)\n",
    "print(y_test,y_pred)"
   ]
  },
  {
   "cell_type": "code",
   "execution_count": 24,
   "metadata": {},
   "outputs": [
    {
     "name": "stdout",
     "output_type": "stream",
     "text": [
      "[0 1 1 0 2 1 2 0 0 2 1 0 2 1 1 0 1 1 0 0 1 1 1 0 2 1 0 0 1 2] [0 1 2 0 2 2 2 0 0 2 1 0 2 2 2 0 1 2 0 0 1 2 2 0 2 1 0 0 1 2]\n"
     ]
    }
   ],
   "source": [
    "# regressor model creation (multiple regression)\n",
    "regressor = RidgeClassifier()\n",
    "\n",
    "# train model with multiple regression\n",
    "regressor.fit(X_train, y_train)\n",
    "\n",
    "# predict test data \n",
    "y_pred = regressor.predict(X_test)\n",
    "print(y_test,y_pred)"
   ]
  }
 ],
 "metadata": {
  "kernelspec": {
   "display_name": "base",
   "language": "python",
   "name": "python3"
  },
  "language_info": {
   "codemirror_mode": {
    "name": "ipython",
    "version": 3
   },
   "file_extension": ".py",
   "mimetype": "text/x-python",
   "name": "python",
   "nbconvert_exporter": "python",
   "pygments_lexer": "ipython3",
   "version": "3.11.5"
  }
 },
 "nbformat": 4,
 "nbformat_minor": 2
}
